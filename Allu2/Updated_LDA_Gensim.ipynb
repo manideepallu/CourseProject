{
  "nbformat": 4,
  "nbformat_minor": 0,
  "metadata": {
    "colab": {
      "name": "Updated_LDA_Gensim.ipynb",
      "provenance": []
    },
    "kernelspec": {
      "name": "python3",
      "display_name": "Python 3"
    }
  },
  "cells": [
    {
      "cell_type": "code",
      "metadata": {
        "colab": {
          "base_uri": "https://localhost:8080/",
          "height": 694
        },
        "id": "xgu9t-JcQyvX",
        "outputId": "fe420cba-8323-4b10-edae-2a5faf3b6505"
      },
      "source": [
        "# Importing modules\n",
        "import pandas as pd\n",
        "import os\n",
        "os.chdir('..')\n",
        "# Read data into papers\n",
        "papers = pd.read_csv('/content/sample.csv')\n",
        "# Print head\n",
        "papers.head()"
      ],
      "execution_count": 10,
      "outputs": [
        {
          "output_type": "execute_result",
          "data": {
            "text/html": [
              "<div>\n",
              "<style scoped>\n",
              "    .dataframe tbody tr th:only-of-type {\n",
              "        vertical-align: middle;\n",
              "    }\n",
              "\n",
              "    .dataframe tbody tr th {\n",
              "        vertical-align: top;\n",
              "    }\n",
              "\n",
              "    .dataframe thead th {\n",
              "        text-align: right;\n",
              "    }\n",
              "</style>\n",
              "<table border=\"1\" class=\"dataframe\">\n",
              "  <thead>\n",
              "    <tr style=\"text-align: right;\">\n",
              "      <th></th>\n",
              "      <th>Alternate URL</th>\n",
              "      <th>Article Abstract</th>\n",
              "      <th>Author Biography</th>\n",
              "      <th>Banner</th>\n",
              "      <th>Biographical Categories</th>\n",
              "      <th>Body</th>\n",
              "      <th>Byline</th>\n",
              "      <th>Column Name</th>\n",
              "      <th>Column Number</th>\n",
              "      <th>Correction Date</th>\n",
              "      <th>Correction Text</th>\n",
              "      <th>Credit</th>\n",
              "      <th>Dateline</th>\n",
              "      <th>Day Of Week</th>\n",
              "      <th>Descriptors</th>\n",
              "      <th>Feature Page</th>\n",
              "      <th>General Online Descriptors</th>\n",
              "      <th>Guid</th>\n",
              "      <th>Headline</th>\n",
              "      <th>Kicker</th>\n",
              "      <th>Lead Paragraph</th>\n",
              "      <th>Locations</th>\n",
              "      <th>Names</th>\n",
              "      <th>News Desk</th>\n",
              "      <th>Normalized Byline</th>\n",
              "      <th>Online Descriptors</th>\n",
              "      <th>Online Headline</th>\n",
              "      <th>Online Lead Paragraph</th>\n",
              "      <th>Online Locations</th>\n",
              "      <th>Online Organizations</th>\n",
              "      <th>Online People</th>\n",
              "      <th>Online Section</th>\n",
              "      <th>Online Titles</th>\n",
              "      <th>Organizations</th>\n",
              "      <th>Page</th>\n",
              "      <th>People</th>\n",
              "      <th>Publication Date</th>\n",
              "      <th>Publication Day Of Month</th>\n",
              "      <th>Publication Month</th>\n",
              "      <th>Publication Year</th>\n",
              "      <th>Section</th>\n",
              "      <th>Series Name</th>\n",
              "      <th>Slug</th>\n",
              "      <th>Taxonomic Classifiers</th>\n",
              "      <th>Titles</th>\n",
              "      <th>Types Of Material</th>\n",
              "      <th>Url</th>\n",
              "      <th>Word Count</th>\n",
              "      <th>Filename</th>\n",
              "    </tr>\n",
              "  </thead>\n",
              "  <tbody>\n",
              "    <tr>\n",
              "      <th>0</th>\n",
              "      <td>NaN</td>\n",
              "      <td>NaN</td>\n",
              "      <td>NaN</td>\n",
              "      <td>NaN</td>\n",
              "      <td>NaN</td>\n",
              "      <td>LEVENE-Ricky. So dearly loved, so deeply misse...</td>\n",
              "      <td>NaN</td>\n",
              "      <td>NaN</td>\n",
              "      <td>3</td>\n",
              "      <td>NaN</td>\n",
              "      <td>NaN</td>\n",
              "      <td>The New York Times</td>\n",
              "      <td>NaN</td>\n",
              "      <td>Thursday</td>\n",
              "      <td>NaN</td>\n",
              "      <td>NaN</td>\n",
              "      <td>NaN</td>\n",
              "      <td>1214647</td>\n",
              "      <td>Paid Notice: Memorials LEVENE, RICKY</td>\n",
              "      <td>NaN</td>\n",
              "      <td>LEVENE-Ricky. So dearly loved, so deeply misse...</td>\n",
              "      <td>NaN</td>\n",
              "      <td>NaN</td>\n",
              "      <td>Classified</td>\n",
              "      <td>NaN</td>\n",
              "      <td>NaN</td>\n",
              "      <td>NaN</td>\n",
              "      <td>NaN</td>\n",
              "      <td>NaN</td>\n",
              "      <td>NaN</td>\n",
              "      <td>NaN</td>\n",
              "      <td>Paid Death Notices</td>\n",
              "      <td>NaN</td>\n",
              "      <td>NaN</td>\n",
              "      <td>27</td>\n",
              "      <td>RICKY LEVENE</td>\n",
              "      <td>20000713T000000</td>\n",
              "      <td>13</td>\n",
              "      <td>7</td>\n",
              "      <td>2000</td>\n",
              "      <td>A</td>\n",
              "      <td>NaN</td>\n",
              "      <td>DN071300</td>\n",
              "      <td>Top/Classifieds/Paid Death Notices</td>\n",
              "      <td>NaN</td>\n",
              "      <td>Paid Memorial Notice</td>\n",
              "      <td>http://query.nytimes.com/gst/fullpage.html?res...</td>\n",
              "      <td>18</td>\n",
              "      <td>2000/07/13/1214647.xml</td>\n",
              "    </tr>\n",
              "    <tr>\n",
              "      <th>1</th>\n",
              "      <td>NaN</td>\n",
              "      <td>Volunteer House, light-hearted architectural f...</td>\n",
              "      <td>NaN</td>\n",
              "      <td>NaN</td>\n",
              "      <td>NaN</td>\n",
              "      <td>''We wanted a building with a certain exuberan...</td>\n",
              "      <td>LINDA LEE</td>\n",
              "      <td>NaN</td>\n",
              "      <td>4</td>\n",
              "      <td>NaN</td>\n",
              "      <td>NaN</td>\n",
              "      <td>The New York Times</td>\n",
              "      <td>NaN</td>\n",
              "      <td>Thursday</td>\n",
              "      <td>Parks and Other Recreation Areas</td>\n",
              "      <td>NaN</td>\n",
              "      <td>Leisure|Parks and Other Recreation Areas</td>\n",
              "      <td>1214444</td>\n",
              "      <td>A Bucolic Meeting Place For City Park Volunteers</td>\n",
              "      <td>CURRENTS: ARCHITECTURE</td>\n",
              "      <td>''We wanted a building with a certain exuberan...</td>\n",
              "      <td>New York City|Riverside Park (NYC)</td>\n",
              "      <td>NaN</td>\n",
              "      <td>House &amp; Home/Style Desk</td>\n",
              "      <td>Lee, Linda</td>\n",
              "      <td>NaN</td>\n",
              "      <td>NaN</td>\n",
              "      <td>NaN</td>\n",
              "      <td>NaN</td>\n",
              "      <td>NaN</td>\n",
              "      <td>NaN</td>\n",
              "      <td>Home and Garden; Style</td>\n",
              "      <td>NaN</td>\n",
              "      <td>NaN</td>\n",
              "      <td>3</td>\n",
              "      <td>Linda Lee|Jeffrey Murphy</td>\n",
              "      <td>20000713T000000</td>\n",
              "      <td>13</td>\n",
              "      <td>7</td>\n",
              "      <td>2000</td>\n",
              "      <td>F</td>\n",
              "      <td>NaN</td>\n",
              "      <td>13PARK</td>\n",
              "      <td>Top/Features/Home and Garden|Top/Features/Styl...</td>\n",
              "      <td>NaN</td>\n",
              "      <td>NaN</td>\n",
              "      <td>http://query.nytimes.com/gst/fullpage.html?res...</td>\n",
              "      <td>228</td>\n",
              "      <td>2000/07/13/1214444.xml</td>\n",
              "    </tr>\n",
              "    <tr>\n",
              "      <th>2</th>\n",
              "      <td>NaN</td>\n",
              "      <td>Small-business owners and farmers whose Washin...</td>\n",
              "      <td>NaN</td>\n",
              "      <td>NaN</td>\n",
              "      <td>NaN</td>\n",
              "      <td>Small-business owners and farmers whose Washin...</td>\n",
              "      <td>DAVID CAY JOHNSTON</td>\n",
              "      <td>NaN</td>\n",
              "      <td>2</td>\n",
              "      <td>NaN</td>\n",
              "      <td>NaN</td>\n",
              "      <td>The New York Times</td>\n",
              "      <td>NaN</td>\n",
              "      <td>Thursday</td>\n",
              "      <td>Taxation|Wills and Estates|Law and Legislation...</td>\n",
              "      <td>NaN</td>\n",
              "      <td>Election Issues|Wills and Estates|Inheritance ...</td>\n",
              "      <td>1214527</td>\n",
              "      <td>Despite Benefits, Democrats' Estate Tax Plan G...</td>\n",
              "      <td>NaN</td>\n",
              "      <td>Small-business owners and farmers whose Washin...</td>\n",
              "      <td>United States</td>\n",
              "      <td>NaN</td>\n",
              "      <td>Business/Financial Desk</td>\n",
              "      <td>Johnston, David Cay</td>\n",
              "      <td>NaN</td>\n",
              "      <td>NaN</td>\n",
              "      <td>NaN</td>\n",
              "      <td>NaN</td>\n",
              "      <td>NaN</td>\n",
              "      <td>NaN</td>\n",
              "      <td>Business</td>\n",
              "      <td>NaN</td>\n",
              "      <td>NaN</td>\n",
              "      <td>1</td>\n",
              "      <td>Bill Clinton|David Cay Johnston|Sanford J Schl...</td>\n",
              "      <td>20000713T000000</td>\n",
              "      <td>13</td>\n",
              "      <td>7</td>\n",
              "      <td>2000</td>\n",
              "      <td>C</td>\n",
              "      <td>NaN</td>\n",
              "      <td>Y13EST$01</td>\n",
              "      <td>Top/News/Business|Top/News/World/Countries and...</td>\n",
              "      <td>NaN</td>\n",
              "      <td>NaN</td>\n",
              "      <td>http://query.nytimes.com/gst/fullpage.html?res...</td>\n",
              "      <td>1400</td>\n",
              "      <td>2000/07/13/1214527.xml</td>\n",
              "    </tr>\n",
              "    <tr>\n",
              "      <th>3</th>\n",
              "      <td>NaN</td>\n",
              "      <td>TriBeCa Perfroming Arts Center will host Festi...</td>\n",
              "      <td>NaN</td>\n",
              "      <td>NaN</td>\n",
              "      <td>NaN</td>\n",
              "      <td>For Indian playwrights, involvement in New Yor...</td>\n",
              "      <td>FELICIA R. LEE</td>\n",
              "      <td>NaN</td>\n",
              "      <td>4</td>\n",
              "      <td>NaN</td>\n",
              "      <td>NaN</td>\n",
              "      <td>The New York Times</td>\n",
              "      <td>NaN</td>\n",
              "      <td>Thursday</td>\n",
              "      <td>Theater|TriBeCa Performing Arts Center (NYC)|F...</td>\n",
              "      <td>NaN</td>\n",
              "      <td>Theater|Festivals</td>\n",
              "      <td>1214463</td>\n",
              "      <td>Festival Opens Door to Indian Theater</td>\n",
              "      <td>NaN</td>\n",
              "      <td>For Indian playwrights, involvement in New Yor...</td>\n",
              "      <td>NaN</td>\n",
              "      <td>NaN</td>\n",
              "      <td>The Arts/Cultural Desk</td>\n",
              "      <td>Lee, Felicia R</td>\n",
              "      <td>NaN</td>\n",
              "      <td>NaN</td>\n",
              "      <td>NaN</td>\n",
              "      <td>NaN</td>\n",
              "      <td>NaN</td>\n",
              "      <td>NaN</td>\n",
              "      <td>Arts; Theater</td>\n",
              "      <td>NaN</td>\n",
              "      <td>Indo-American Arts Council</td>\n",
              "      <td>8</td>\n",
              "      <td>Felicia R Lee|Mahesh Dattani|Vijay Tendulkar</td>\n",
              "      <td>20000713T000000</td>\n",
              "      <td>13</td>\n",
              "      <td>7</td>\n",
              "      <td>2000</td>\n",
              "      <td>E</td>\n",
              "      <td>NaN</td>\n",
              "      <td>13FEST$01</td>\n",
              "      <td>Top/News|Top/Features/Arts|Top/Features/Theate...</td>\n",
              "      <td>NaN</td>\n",
              "      <td>NaN</td>\n",
              "      <td>http://query.nytimes.com/gst/fullpage.html?res...</td>\n",
              "      <td>402</td>\n",
              "      <td>2000/07/13/1214463.xml</td>\n",
              "    </tr>\n",
              "    <tr>\n",
              "      <th>4</th>\n",
              "      <td>NaN</td>\n",
              "      <td>Warming relations between South Korea and Japa...</td>\n",
              "      <td>NaN</td>\n",
              "      <td>NaN</td>\n",
              "      <td>NaN</td>\n",
              "      <td>As he waited to board a flight back to his nat...</td>\n",
              "      <td>HOWARD W. FRENCH</td>\n",
              "      <td>NaN</td>\n",
              "      <td>1</td>\n",
              "      <td>NaN</td>\n",
              "      <td>NaN</td>\n",
              "      <td>The New York Times</td>\n",
              "      <td>FUKUOKA, Japan</td>\n",
              "      <td>Thursday</td>\n",
              "      <td>International Relations|Japan-International Re...</td>\n",
              "      <td>NaN</td>\n",
              "      <td>International Relations|Travel and Vacations|P...</td>\n",
              "      <td>1214519</td>\n",
              "      <td>Travel Boom Pulls Japan and South Korea Closer</td>\n",
              "      <td>NaN</td>\n",
              "      <td>As he waited to board a flight back to his nat...</td>\n",
              "      <td>South Korea|Japan|Fukuoka (Japan)</td>\n",
              "      <td>NaN</td>\n",
              "      <td>Foreign Desk</td>\n",
              "      <td>French, Howard W</td>\n",
              "      <td>NaN</td>\n",
              "      <td>NaN</td>\n",
              "      <td>NaN</td>\n",
              "      <td>NaN</td>\n",
              "      <td>NaN</td>\n",
              "      <td>NaN</td>\n",
              "      <td>World</td>\n",
              "      <td>NaN</td>\n",
              "      <td>NaN</td>\n",
              "      <td>3</td>\n",
              "      <td>Howard W French</td>\n",
              "      <td>20000713T000000</td>\n",
              "      <td>13</td>\n",
              "      <td>7</td>\n",
              "      <td>2000</td>\n",
              "      <td>A</td>\n",
              "      <td>NaN</td>\n",
              "      <td>Y13JAP$03</td>\n",
              "      <td>Top/News|Top/News/World/Countries and Territor...</td>\n",
              "      <td>NaN</td>\n",
              "      <td>NaN</td>\n",
              "      <td>http://query.nytimes.com/gst/fullpage.html?res...</td>\n",
              "      <td>1517</td>\n",
              "      <td>2000/07/13/1214519.xml</td>\n",
              "    </tr>\n",
              "  </tbody>\n",
              "</table>\n",
              "</div>"
            ],
            "text/plain": [
              "   Alternate URL  ...                Filename\n",
              "0            NaN  ...  2000/07/13/1214647.xml\n",
              "1            NaN  ...  2000/07/13/1214444.xml\n",
              "2            NaN  ...  2000/07/13/1214527.xml\n",
              "3            NaN  ...  2000/07/13/1214463.xml\n",
              "4            NaN  ...  2000/07/13/1214519.xml\n",
              "\n",
              "[5 rows x 49 columns]"
            ]
          },
          "metadata": {
            "tags": []
          },
          "execution_count": 10
        }
      ]
    },
    {
      "cell_type": "code",
      "metadata": {
        "colab": {
          "base_uri": "https://localhost:8080/",
          "height": 206
        },
        "id": "9D-L-jQsQ15y",
        "outputId": "26ff3a2d-3576-4bd9-ed99-edc1b45a5e7e"
      },
      "source": [
        "# Remove the columns\n",
        "papers = papers.drop(columns=['Alternate URL', 'Article Abstract', 'Author Biography','Banner','Biographical Categories','Byline','Column Name','Column Number','Correction Date','Correction Text','Credit','Dateline','Day Of Week','Descriptors','Feature Page','General Online Descriptors','Guid','Headline','Kicker','Lead Paragraph','Locations','Names','News Desk','Normalized Byline','Online Descriptors','Online Headline','Online Lead Paragraph','Online Locations','Online Organizations','Online People','Online Section','Online Titles','Organizations','Page','People','Publication Date','Publication Day Of Month','Publication Month','Publication Year','Section','Series Name','Slug','Taxonomic Classifiers','Titles','Types Of Material','Url','Word Count','Filename'], axis=1)\n",
        "# Print out the first rows of papers\n",
        "papers.head()"
      ],
      "execution_count": 11,
      "outputs": [
        {
          "output_type": "execute_result",
          "data": {
            "text/html": [
              "<div>\n",
              "<style scoped>\n",
              "    .dataframe tbody tr th:only-of-type {\n",
              "        vertical-align: middle;\n",
              "    }\n",
              "\n",
              "    .dataframe tbody tr th {\n",
              "        vertical-align: top;\n",
              "    }\n",
              "\n",
              "    .dataframe thead th {\n",
              "        text-align: right;\n",
              "    }\n",
              "</style>\n",
              "<table border=\"1\" class=\"dataframe\">\n",
              "  <thead>\n",
              "    <tr style=\"text-align: right;\">\n",
              "      <th></th>\n",
              "      <th>Body</th>\n",
              "    </tr>\n",
              "  </thead>\n",
              "  <tbody>\n",
              "    <tr>\n",
              "      <th>0</th>\n",
              "      <td>LEVENE-Ricky. So dearly loved, so deeply misse...</td>\n",
              "    </tr>\n",
              "    <tr>\n",
              "      <th>1</th>\n",
              "      <td>''We wanted a building with a certain exuberan...</td>\n",
              "    </tr>\n",
              "    <tr>\n",
              "      <th>2</th>\n",
              "      <td>Small-business owners and farmers whose Washin...</td>\n",
              "    </tr>\n",
              "    <tr>\n",
              "      <th>3</th>\n",
              "      <td>For Indian playwrights, involvement in New Yor...</td>\n",
              "    </tr>\n",
              "    <tr>\n",
              "      <th>4</th>\n",
              "      <td>As he waited to board a flight back to his nat...</td>\n",
              "    </tr>\n",
              "  </tbody>\n",
              "</table>\n",
              "</div>"
            ],
            "text/plain": [
              "                                                Body\n",
              "0  LEVENE-Ricky. So dearly loved, so deeply misse...\n",
              "1  ''We wanted a building with a certain exuberan...\n",
              "2  Small-business owners and farmers whose Washin...\n",
              "3  For Indian playwrights, involvement in New Yor...\n",
              "4  As he waited to board a flight back to his nat..."
            ]
          },
          "metadata": {
            "tags": []
          },
          "execution_count": 11
        }
      ]
    },
    {
      "cell_type": "code",
      "metadata": {
        "colab": {
          "base_uri": "https://localhost:8080/"
        },
        "id": "gzonOcUBQ4h1",
        "outputId": "b051caa2-c9be-4ee5-eb69-326873aa20f5"
      },
      "source": [
        "# Load the regular expression library\n",
        "import re\n",
        "# Remove punctuation\n",
        "papers['paper_text_processed'] = papers['Body'].map(lambda x: re.sub('[,\\.!?]', '', x))\n",
        "# Convert the titles to lowercase\n",
        "papers['paper_text_processed'] = papers['paper_text_processed'].map(lambda x: x.lower())\n",
        "# Print out the first rows of papers\n",
        "papers['paper_text_processed'].head()\n"
      ],
      "execution_count": 12,
      "outputs": [
        {
          "output_type": "execute_result",
          "data": {
            "text/plain": [
              "0    levene-ricky so dearly loved so deeply missed ...\n",
              "1    ''we wanted a building with a certain exuberan...\n",
              "2    small-business owners and farmers whose washin...\n",
              "3    for indian playwrights involvement in new york...\n",
              "4    as he waited to board a flight back to his nat...\n",
              "Name: paper_text_processed, dtype: object"
            ]
          },
          "metadata": {
            "tags": []
          },
          "execution_count": 12
        }
      ]
    },
    {
      "cell_type": "code",
      "metadata": {
        "colab": {
          "base_uri": "https://localhost:8080/"
        },
        "id": "WC_S8FcJQ6uU",
        "outputId": "45e819d4-cd6b-449f-8395-f42ecb970605"
      },
      "source": [
        "%%time\n",
        "import gensim\n",
        "from gensim.utils import simple_preprocess\n",
        "def sent_to_words(sentences):\n",
        "    for sentence in sentences:\n",
        "        yield(gensim.utils.simple_preprocess(str(sentence), deacc=True))  # deacc=True removes punctuations\n",
        "data = papers.paper_text_processed.values.tolist()\n",
        "data_words = list(sent_to_words(data))\n",
        "print(data_words[:1])"
      ],
      "execution_count": 13,
      "outputs": [
        {
          "output_type": "stream",
          "text": [
            "[['levene', 'ricky', 'so', 'dearly', 'loved', 'so', 'deeply', 'missed', 'so', 'much', 'too', 'soon', 'our', 'constant', 'love', 'mom', 'and', 'your', 'family']]\n",
            "CPU times: user 55.2 ms, sys: 2.78 ms, total: 58 ms\n",
            "Wall time: 69.1 ms\n"
          ],
          "name": "stdout"
        }
      ]
    },
    {
      "cell_type": "code",
      "metadata": {
        "colab": {
          "base_uri": "https://localhost:8080/"
        },
        "id": "Gd3_Orq2Q9xp",
        "outputId": "11267f57-efc0-42e9-c8da-5959abec5baa"
      },
      "source": [
        "# Build the bigram and trigram models\n",
        "bigram = gensim.models.Phrases(data_words, min_count=5, threshold=100) # higher threshold fewer phrases.\n",
        "trigram = gensim.models.Phrases(bigram[data_words], threshold=100)\n",
        "# Faster way to get a sentence clubbed as a trigram/bigram\n",
        "bigram_mod = gensim.models.phrases.Phraser(bigram)\n",
        "trigram_mod = gensim.models.phrases.Phraser(trigram)"
      ],
      "execution_count": 14,
      "outputs": [
        {
          "output_type": "stream",
          "text": [
            "/usr/local/lib/python3.6/dist-packages/gensim/models/phrases.py:598: UserWarning: For a faster implementation, use the gensim.models.phrases.Phraser class\n",
            "  warnings.warn(\"For a faster implementation, use the gensim.models.phrases.Phraser class\")\n"
          ],
          "name": "stderr"
        }
      ]
    },
    {
      "cell_type": "code",
      "metadata": {
        "colab": {
          "base_uri": "https://localhost:8080/"
        },
        "id": "WrKpMjdgRCN8",
        "outputId": "e601f6ee-6567-4cc3-e8ff-4d77a0f8bf68"
      },
      "source": [
        "# NLTK Stop words\n",
        "\n",
        "import nltk\n",
        "nltk.download('stopwords')\n",
        "from nltk.corpus import stopwords\n",
        "stop_words = stopwords.words('english')\n",
        "stop_words.extend(['from', 'subject', 're', 'edu', 'use'])\n",
        "# Define functions for stopwords, bigrams, trigrams and lemmatization\n",
        "def remove_stopwords(texts):\n",
        "    return [[word for word in simple_preprocess(str(doc)) if word not in stop_words] for doc in texts]\n",
        "def make_bigrams(texts):\n",
        "    return [bigram_mod[doc] for doc in texts]\n",
        "def make_trigrams(texts):\n",
        "    return [trigram_mod[bigram_mod[doc]] for doc in texts]\n",
        "def lemmatization(texts, allowed_postags=['NOUN', 'ADJ', 'VERB', 'ADV']):\n",
        "    \"\"\"https://spacy.io/api/annotation\"\"\"\n",
        "    texts_out = []\n",
        "    for sent in texts:\n",
        "        doc = nlp(\" \".join(sent)) \n",
        "        texts_out.append([token.lemma_ for token in doc if token.pos_ in allowed_postags])\n",
        "    return texts_out"
      ],
      "execution_count": 15,
      "outputs": [
        {
          "output_type": "stream",
          "text": [
            "[nltk_data] Downloading package stopwords to /root/nltk_data...\n",
            "[nltk_data]   Package stopwords is already up-to-date!\n"
          ],
          "name": "stdout"
        }
      ]
    },
    {
      "cell_type": "code",
      "metadata": {
        "colab": {
          "base_uri": "https://localhost:8080/"
        },
        "id": "DLMD2pIqRGwE",
        "outputId": "032f57af-3786-46df-bf38-adb9df5900e3"
      },
      "source": [
        "import spacy\n",
        "# Remove Stop Words\n",
        "data_words_nostops = remove_stopwords(data_words)\n",
        "# Form Bigrams\n",
        "data_words_bigrams = make_bigrams(data_words_nostops)\n",
        "# Initialize spacy 'en' model, keeping only tagger component (for efficiency)\n",
        "nlp = spacy.load(\"en_core_web_sm\", disable=['parser', 'ner'])\n",
        "# Do lemmatization keeping only noun, adj, vb, adv\n",
        "data_lemmatized = lemmatization(data_words_bigrams, allowed_postags=['NOUN', 'ADJ', 'VERB', 'ADV'])\n",
        "print(data_lemmatized[:1])"
      ],
      "execution_count": 17,
      "outputs": [
        {
          "output_type": "stream",
          "text": [
            "[['dearly', 'love', 'deeply', 'miss', 'much', 'soon', 'constant', 'love', 'mom', 'family']]\n"
          ],
          "name": "stdout"
        }
      ]
    },
    {
      "cell_type": "code",
      "metadata": {
        "id": "7i2XMJDXRJWw",
        "colab": {
          "base_uri": "https://localhost:8080/"
        },
        "outputId": "c27b0281-f274-4227-910f-d5b760f9ec84"
      },
      "source": [
        "import gensim.corpora as corpora\n",
        "# Create Dictionary\n",
        "id2word = corpora.Dictionary(data_lemmatized)\n",
        "# Create Corpus\n",
        "texts = data_lemmatized\n",
        "# Term Document Frequency\n",
        "corpus = [id2word.doc2bow(text) for text in texts]\n",
        "# View\n",
        "print(corpus[:1])"
      ],
      "execution_count": 18,
      "outputs": [
        {
          "output_type": "stream",
          "text": [
            "[[(0, 1), (1, 1), (2, 1), (3, 1), (4, 2), (5, 1), (6, 1), (7, 1), (8, 1)]]\n"
          ],
          "name": "stdout"
        }
      ]
    },
    {
      "cell_type": "code",
      "metadata": {
        "id": "Fg3GUkq1RMPH"
      },
      "source": [
        "# Build LDA model\n",
        "lda_model = gensim.models.LdaMulticore(corpus=corpus,\n",
        "                                       id2word=id2word,\n",
        "                                       num_topics=6, \n",
        "                                       random_state=100,\n",
        "                                       chunksize=100,\n",
        "                                       passes=10,\n",
        "                                       per_word_topics=True)"
      ],
      "execution_count": 19,
      "outputs": []
    },
    {
      "cell_type": "code",
      "metadata": {
        "id": "BuIGOu1ERQ6M",
        "colab": {
          "base_uri": "https://localhost:8080/"
        },
        "outputId": "2b51917f-01e4-4f24-968d-73db76d05048"
      },
      "source": [
        "from pprint import pprint\n",
        "# Print the Keyword in the 10 topics\n",
        "pprint(lda_model.print_topics())\n",
        "doc_lda = lda_model[corpus]\n"
      ],
      "execution_count": 20,
      "outputs": [
        {
          "output_type": "stream",
          "text": [
            "[(0,\n",
            "  '0.022*\"say\" + 0.012*\"would\" + 0.011*\"tax\" + 0.009*\"farmer\" + 0.009*\"marble\" '\n",
            "  '+ 0.008*\"plan\" + 0.008*\"estate_tax\" + 0.008*\"wall\" + 0.007*\"estate\" + '\n",
            "  '0.007*\"light\"'),\n",
            " (1,\n",
            "  '0.013*\"woman\" + 0.008*\"say\" + 0.008*\"japanese\" + 0.006*\"year\" + '\n",
            "  '0.006*\"much\" + 0.006*\"korean\" + 0.006*\"many\" + 0.005*\"country\" + '\n",
            "  '0.004*\"would\" + 0.004*\"book\"'),\n",
            " (2,\n",
            "  '0.024*\"price\" + 0.020*\"say\" + 0.015*\"gas\" + 0.010*\"oil\" + 0.010*\"year\" + '\n",
            "  '0.007*\"station\" + 0.006*\"profit\" + 0.006*\"inventory\" + 0.006*\"rise\" + '\n",
            "  '0.006*\"market\"'),\n",
            " (3,\n",
            "  '0.030*\"say\" + 0.007*\"make\" + 0.007*\"low\" + 0.007*\"last\" + 0.006*\"year\" + '\n",
            "  '0.006*\"gooden\" + 0.005*\"team\" + 0.005*\"start\" + 0.005*\"people\" + '\n",
            "  '0.005*\"time\"'),\n",
            " (4,\n",
            "  '0.024*\"say\" + 0.020*\"state\" + 0.013*\"year\" + 0.011*\"district\" + '\n",
            "  '0.008*\"would\" + 0.007*\"school\" + 0.006*\"account\" + 0.005*\"armory\" + '\n",
            "  '0.005*\"official\" + 0.004*\"proposal\"'),\n",
            " (5,\n",
            "  '0.010*\"name\" + 0.009*\"site\" + 0.008*\"year\" + 0.008*\"race\" + 0.007*\"sign\" + '\n",
            "  '0.006*\"web\" + 0.006*\"tour\" + 0.005*\"make\" + 0.005*\"live\" + 0.005*\"report\"')]\n"
          ],
          "name": "stdout"
        }
      ]
    },
    {
      "cell_type": "code",
      "metadata": {
        "id": "x0aYLYZ1RWFp",
        "colab": {
          "base_uri": "https://localhost:8080/"
        },
        "outputId": "c399759b-c52c-4954-f4b4-bb8ec081ffdd"
      },
      "source": [
        "from gensim.models import CoherenceModel\n",
        "# Compute Coherence Score\n",
        "coherence_model_lda = CoherenceModel(model=lda_model, texts=data_lemmatized, dictionary=id2word, coherence='c_v')\n",
        "coherence_lda = coherence_model_lda.get_coherence()\n",
        "print('\\nCoherence Score: ', coherence_lda)"
      ],
      "execution_count": 21,
      "outputs": [
        {
          "output_type": "stream",
          "text": [
            "\n",
            "Coherence Score:  0.3166600191192936\n"
          ],
          "name": "stdout"
        }
      ]
    },
    {
      "cell_type": "code",
      "metadata": {
        "id": "QthO5AnIRjkK",
        "colab": {
          "base_uri": "https://localhost:8080/",
          "height": 1000
        },
        "outputId": "d152d685-7590-4c4e-89a2-d6b13d6ea1f2"
      },
      "source": [
        "!pip install pyLDAvis\n",
        "\n",
        "import pyLDAvis.gensim\n",
        "import pickle \n",
        "import pyLDAvis\n",
        "# Visualize the topics\n",
        "pyLDAvis.enable_notebook()\n",
        "LDAvis_prepared = pyLDAvis.gensim.prepare(lda_model, corpus, id2word)\n",
        "LDAvis_prepared"
      ],
      "execution_count": 22,
      "outputs": [
        {
          "output_type": "stream",
          "text": [
            "Collecting pyLDAvis\n",
            "\u001b[?25l  Downloading https://files.pythonhosted.org/packages/a5/3a/af82e070a8a96e13217c8f362f9a73e82d61ac8fff3a2561946a97f96266/pyLDAvis-2.1.2.tar.gz (1.6MB)\n",
            "\r\u001b[K     |▏                               | 10kB 14.7MB/s eta 0:00:01\r\u001b[K     |▍                               | 20kB 21.3MB/s eta 0:00:01\r\u001b[K     |▋                               | 30kB 25.6MB/s eta 0:00:01\r\u001b[K     |▉                               | 40kB 26.1MB/s eta 0:00:01\r\u001b[K     |█                               | 51kB 17.3MB/s eta 0:00:01\r\u001b[K     |█▏                              | 61kB 19.2MB/s eta 0:00:01\r\u001b[K     |█▍                              | 71kB 15.5MB/s eta 0:00:01\r\u001b[K     |█▋                              | 81kB 15.0MB/s eta 0:00:01\r\u001b[K     |█▉                              | 92kB 13.8MB/s eta 0:00:01\r\u001b[K     |██                              | 102kB 12.6MB/s eta 0:00:01\r\u001b[K     |██▎                             | 112kB 12.6MB/s eta 0:00:01\r\u001b[K     |██▍                             | 122kB 12.6MB/s eta 0:00:01\r\u001b[K     |██▋                             | 133kB 12.6MB/s eta 0:00:01\r\u001b[K     |██▉                             | 143kB 12.6MB/s eta 0:00:01\r\u001b[K     |███                             | 153kB 12.6MB/s eta 0:00:01\r\u001b[K     |███▎                            | 163kB 12.6MB/s eta 0:00:01\r\u001b[K     |███▌                            | 174kB 12.6MB/s eta 0:00:01\r\u001b[K     |███▋                            | 184kB 12.6MB/s eta 0:00:01\r\u001b[K     |███▉                            | 194kB 12.6MB/s eta 0:00:01\r\u001b[K     |████                            | 204kB 12.6MB/s eta 0:00:01\r\u001b[K     |████▎                           | 215kB 12.6MB/s eta 0:00:01\r\u001b[K     |████▌                           | 225kB 12.6MB/s eta 0:00:01\r\u001b[K     |████▊                           | 235kB 12.6MB/s eta 0:00:01\r\u001b[K     |████▉                           | 245kB 12.6MB/s eta 0:00:01\r\u001b[K     |█████                           | 256kB 12.6MB/s eta 0:00:01\r\u001b[K     |█████▎                          | 266kB 12.6MB/s eta 0:00:01\r\u001b[K     |█████▌                          | 276kB 12.6MB/s eta 0:00:01\r\u001b[K     |█████▊                          | 286kB 12.6MB/s eta 0:00:01\r\u001b[K     |█████▉                          | 296kB 12.6MB/s eta 0:00:01\r\u001b[K     |██████                          | 307kB 12.6MB/s eta 0:00:01\r\u001b[K     |██████▎                         | 317kB 12.6MB/s eta 0:00:01\r\u001b[K     |██████▌                         | 327kB 12.6MB/s eta 0:00:01\r\u001b[K     |██████▊                         | 337kB 12.6MB/s eta 0:00:01\r\u001b[K     |███████                         | 348kB 12.6MB/s eta 0:00:01\r\u001b[K     |███████                         | 358kB 12.6MB/s eta 0:00:01\r\u001b[K     |███████▎                        | 368kB 12.6MB/s eta 0:00:01\r\u001b[K     |███████▌                        | 378kB 12.6MB/s eta 0:00:01\r\u001b[K     |███████▊                        | 389kB 12.6MB/s eta 0:00:01\r\u001b[K     |████████                        | 399kB 12.6MB/s eta 0:00:01\r\u001b[K     |████████▏                       | 409kB 12.6MB/s eta 0:00:01\r\u001b[K     |████████▎                       | 419kB 12.6MB/s eta 0:00:01\r\u001b[K     |████████▌                       | 430kB 12.6MB/s eta 0:00:01\r\u001b[K     |████████▊                       | 440kB 12.6MB/s eta 0:00:01\r\u001b[K     |█████████                       | 450kB 12.6MB/s eta 0:00:01\r\u001b[K     |█████████▏                      | 460kB 12.6MB/s eta 0:00:01\r\u001b[K     |█████████▍                      | 471kB 12.6MB/s eta 0:00:01\r\u001b[K     |█████████▌                      | 481kB 12.6MB/s eta 0:00:01\r\u001b[K     |█████████▊                      | 491kB 12.6MB/s eta 0:00:01\r\u001b[K     |██████████                      | 501kB 12.6MB/s eta 0:00:01\r\u001b[K     |██████████▏                     | 512kB 12.6MB/s eta 0:00:01\r\u001b[K     |██████████▍                     | 522kB 12.6MB/s eta 0:00:01\r\u001b[K     |██████████▋                     | 532kB 12.6MB/s eta 0:00:01\r\u001b[K     |██████████▊                     | 542kB 12.6MB/s eta 0:00:01\r\u001b[K     |███████████                     | 552kB 12.6MB/s eta 0:00:01\r\u001b[K     |███████████▏                    | 563kB 12.6MB/s eta 0:00:01\r\u001b[K     |███████████▍                    | 573kB 12.6MB/s eta 0:00:01\r\u001b[K     |███████████▋                    | 583kB 12.6MB/s eta 0:00:01\r\u001b[K     |███████████▊                    | 593kB 12.6MB/s eta 0:00:01\r\u001b[K     |████████████                    | 604kB 12.6MB/s eta 0:00:01\r\u001b[K     |████████████▏                   | 614kB 12.6MB/s eta 0:00:01\r\u001b[K     |████████████▍                   | 624kB 12.6MB/s eta 0:00:01\r\u001b[K     |████████████▋                   | 634kB 12.6MB/s eta 0:00:01\r\u001b[K     |████████████▉                   | 645kB 12.6MB/s eta 0:00:01\r\u001b[K     |█████████████                   | 655kB 12.6MB/s eta 0:00:01\r\u001b[K     |█████████████▏                  | 665kB 12.6MB/s eta 0:00:01\r\u001b[K     |█████████████▍                  | 675kB 12.6MB/s eta 0:00:01\r\u001b[K     |█████████████▋                  | 686kB 12.6MB/s eta 0:00:01\r\u001b[K     |█████████████▉                  | 696kB 12.6MB/s eta 0:00:01\r\u001b[K     |██████████████                  | 706kB 12.6MB/s eta 0:00:01\r\u001b[K     |██████████████▏                 | 716kB 12.6MB/s eta 0:00:01\r\u001b[K     |██████████████▍                 | 727kB 12.6MB/s eta 0:00:01\r\u001b[K     |██████████████▋                 | 737kB 12.6MB/s eta 0:00:01\r\u001b[K     |██████████████▉                 | 747kB 12.6MB/s eta 0:00:01\r\u001b[K     |███████████████                 | 757kB 12.6MB/s eta 0:00:01\r\u001b[K     |███████████████▎                | 768kB 12.6MB/s eta 0:00:01\r\u001b[K     |███████████████▍                | 778kB 12.6MB/s eta 0:00:01\r\u001b[K     |███████████████▋                | 788kB 12.6MB/s eta 0:00:01\r\u001b[K     |███████████████▉                | 798kB 12.6MB/s eta 0:00:01\r\u001b[K     |████████████████                | 808kB 12.6MB/s eta 0:00:01\r\u001b[K     |████████████████▎               | 819kB 12.6MB/s eta 0:00:01\r\u001b[K     |████████████████▌               | 829kB 12.6MB/s eta 0:00:01\r\u001b[K     |████████████████▋               | 839kB 12.6MB/s eta 0:00:01\r\u001b[K     |████████████████▉               | 849kB 12.6MB/s eta 0:00:01\r\u001b[K     |█████████████████               | 860kB 12.6MB/s eta 0:00:01\r\u001b[K     |█████████████████▎              | 870kB 12.6MB/s eta 0:00:01\r\u001b[K     |█████████████████▌              | 880kB 12.6MB/s eta 0:00:01\r\u001b[K     |█████████████████▋              | 890kB 12.6MB/s eta 0:00:01\r\u001b[K     |█████████████████▉              | 901kB 12.6MB/s eta 0:00:01\r\u001b[K     |██████████████████              | 911kB 12.6MB/s eta 0:00:01\r\u001b[K     |██████████████████▎             | 921kB 12.6MB/s eta 0:00:01\r\u001b[K     |██████████████████▌             | 931kB 12.6MB/s eta 0:00:01\r\u001b[K     |██████████████████▊             | 942kB 12.6MB/s eta 0:00:01\r\u001b[K     |██████████████████▉             | 952kB 12.6MB/s eta 0:00:01\r\u001b[K     |███████████████████             | 962kB 12.6MB/s eta 0:00:01\r\u001b[K     |███████████████████▎            | 972kB 12.6MB/s eta 0:00:01\r\u001b[K     |███████████████████▌            | 983kB 12.6MB/s eta 0:00:01\r\u001b[K     |███████████████████▊            | 993kB 12.6MB/s eta 0:00:01\r\u001b[K     |████████████████████            | 1.0MB 12.6MB/s eta 0:00:01\r\u001b[K     |████████████████████            | 1.0MB 12.6MB/s eta 0:00:01\r\u001b[K     |████████████████████▎           | 1.0MB 12.6MB/s eta 0:00:01\r\u001b[K     |████████████████████▌           | 1.0MB 12.6MB/s eta 0:00:01\r\u001b[K     |████████████████████▊           | 1.0MB 12.6MB/s eta 0:00:01\r\u001b[K     |█████████████████████           | 1.1MB 12.6MB/s eta 0:00:01\r\u001b[K     |█████████████████████▏          | 1.1MB 12.6MB/s eta 0:00:01\r\u001b[K     |█████████████████████▎          | 1.1MB 12.6MB/s eta 0:00:01\r\u001b[K     |█████████████████████▌          | 1.1MB 12.6MB/s eta 0:00:01\r\u001b[K     |█████████████████████▊          | 1.1MB 12.6MB/s eta 0:00:01\r\u001b[K     |██████████████████████          | 1.1MB 12.6MB/s eta 0:00:01\r\u001b[K     |██████████████████████▏         | 1.1MB 12.6MB/s eta 0:00:01\r\u001b[K     |██████████████████████▍         | 1.1MB 12.6MB/s eta 0:00:01\r\u001b[K     |██████████████████████▌         | 1.1MB 12.6MB/s eta 0:00:01\r\u001b[K     |██████████████████████▊         | 1.1MB 12.6MB/s eta 0:00:01\r\u001b[K     |███████████████████████         | 1.2MB 12.6MB/s eta 0:00:01\r\u001b[K     |███████████████████████▏        | 1.2MB 12.6MB/s eta 0:00:01\r\u001b[K     |███████████████████████▍        | 1.2MB 12.6MB/s eta 0:00:01\r\u001b[K     |███████████████████████▌        | 1.2MB 12.6MB/s eta 0:00:01\r\u001b[K     |███████████████████████▊        | 1.2MB 12.6MB/s eta 0:00:01\r\u001b[K     |████████████████████████        | 1.2MB 12.6MB/s eta 0:00:01\r\u001b[K     |████████████████████████▏       | 1.2MB 12.6MB/s eta 0:00:01\r\u001b[K     |████████████████████████▍       | 1.2MB 12.6MB/s eta 0:00:01\r\u001b[K     |████████████████████████▋       | 1.2MB 12.6MB/s eta 0:00:01\r\u001b[K     |████████████████████████▊       | 1.2MB 12.6MB/s eta 0:00:01\r\u001b[K     |█████████████████████████       | 1.3MB 12.6MB/s eta 0:00:01\r\u001b[K     |█████████████████████████▏      | 1.3MB 12.6MB/s eta 0:00:01\r\u001b[K     |█████████████████████████▍      | 1.3MB 12.6MB/s eta 0:00:01\r\u001b[K     |█████████████████████████▋      | 1.3MB 12.6MB/s eta 0:00:01\r\u001b[K     |█████████████████████████▉      | 1.3MB 12.6MB/s eta 0:00:01\r\u001b[K     |██████████████████████████      | 1.3MB 12.6MB/s eta 0:00:01\r\u001b[K     |██████████████████████████▏     | 1.3MB 12.6MB/s eta 0:00:01\r\u001b[K     |██████████████████████████▍     | 1.3MB 12.6MB/s eta 0:00:01\r\u001b[K     |██████████████████████████▋     | 1.3MB 12.6MB/s eta 0:00:01\r\u001b[K     |██████████████████████████▉     | 1.4MB 12.6MB/s eta 0:00:01\r\u001b[K     |███████████████████████████     | 1.4MB 12.6MB/s eta 0:00:01\r\u001b[K     |███████████████████████████▏    | 1.4MB 12.6MB/s eta 0:00:01\r\u001b[K     |███████████████████████████▍    | 1.4MB 12.6MB/s eta 0:00:01\r\u001b[K     |███████████████████████████▋    | 1.4MB 12.6MB/s eta 0:00:01\r\u001b[K     |███████████████████████████▉    | 1.4MB 12.6MB/s eta 0:00:01\r\u001b[K     |████████████████████████████    | 1.4MB 12.6MB/s eta 0:00:01\r\u001b[K     |████████████████████████████▏   | 1.4MB 12.6MB/s eta 0:00:01\r\u001b[K     |████████████████████████████▍   | 1.4MB 12.6MB/s eta 0:00:01\r\u001b[K     |████████████████████████████▋   | 1.4MB 12.6MB/s eta 0:00:01\r\u001b[K     |████████████████████████████▉   | 1.5MB 12.6MB/s eta 0:00:01\r\u001b[K     |█████████████████████████████   | 1.5MB 12.6MB/s eta 0:00:01\r\u001b[K     |█████████████████████████████▎  | 1.5MB 12.6MB/s eta 0:00:01\r\u001b[K     |█████████████████████████████▍  | 1.5MB 12.6MB/s eta 0:00:01\r\u001b[K     |█████████████████████████████▋  | 1.5MB 12.6MB/s eta 0:00:01\r\u001b[K     |█████████████████████████████▉  | 1.5MB 12.6MB/s eta 0:00:01\r\u001b[K     |██████████████████████████████  | 1.5MB 12.6MB/s eta 0:00:01\r\u001b[K     |██████████████████████████████▎ | 1.5MB 12.6MB/s eta 0:00:01\r\u001b[K     |██████████████████████████████▌ | 1.5MB 12.6MB/s eta 0:00:01\r\u001b[K     |██████████████████████████████▋ | 1.5MB 12.6MB/s eta 0:00:01\r\u001b[K     |██████████████████████████████▉ | 1.6MB 12.6MB/s eta 0:00:01\r\u001b[K     |███████████████████████████████ | 1.6MB 12.6MB/s eta 0:00:01\r\u001b[K     |███████████████████████████████▎| 1.6MB 12.6MB/s eta 0:00:01\r\u001b[K     |███████████████████████████████▌| 1.6MB 12.6MB/s eta 0:00:01\r\u001b[K     |███████████████████████████████▊| 1.6MB 12.6MB/s eta 0:00:01\r\u001b[K     |███████████████████████████████▉| 1.6MB 12.6MB/s eta 0:00:01\r\u001b[K     |████████████████████████████████| 1.6MB 12.6MB/s \n",
            "\u001b[?25hRequirement already satisfied: wheel>=0.23.0 in /usr/local/lib/python3.6/dist-packages (from pyLDAvis) (0.35.1)\n",
            "Requirement already satisfied: numpy>=1.9.2 in /usr/local/lib/python3.6/dist-packages (from pyLDAvis) (1.18.5)\n",
            "Requirement already satisfied: scipy>=0.18.0 in /usr/local/lib/python3.6/dist-packages (from pyLDAvis) (1.4.1)\n",
            "Requirement already satisfied: pandas>=0.17.0 in /usr/local/lib/python3.6/dist-packages (from pyLDAvis) (1.1.4)\n",
            "Requirement already satisfied: joblib>=0.8.4 in /usr/local/lib/python3.6/dist-packages (from pyLDAvis) (0.17.0)\n",
            "Requirement already satisfied: jinja2>=2.7.2 in /usr/local/lib/python3.6/dist-packages (from pyLDAvis) (2.11.2)\n",
            "Requirement already satisfied: numexpr in /usr/local/lib/python3.6/dist-packages (from pyLDAvis) (2.7.1)\n",
            "Requirement already satisfied: pytest in /usr/local/lib/python3.6/dist-packages (from pyLDAvis) (3.6.4)\n",
            "Requirement already satisfied: future in /usr/local/lib/python3.6/dist-packages (from pyLDAvis) (0.16.0)\n",
            "Collecting funcy\n",
            "  Downloading https://files.pythonhosted.org/packages/66/89/479de0afbbfb98d1c4b887936808764627300208bb771fcd823403645a36/funcy-1.15-py2.py3-none-any.whl\n",
            "Requirement already satisfied: pytz>=2017.2 in /usr/local/lib/python3.6/dist-packages (from pandas>=0.17.0->pyLDAvis) (2018.9)\n",
            "Requirement already satisfied: python-dateutil>=2.7.3 in /usr/local/lib/python3.6/dist-packages (from pandas>=0.17.0->pyLDAvis) (2.8.1)\n",
            "Requirement already satisfied: MarkupSafe>=0.23 in /usr/local/lib/python3.6/dist-packages (from jinja2>=2.7.2->pyLDAvis) (1.1.1)\n",
            "Requirement already satisfied: py>=1.5.0 in /usr/local/lib/python3.6/dist-packages (from pytest->pyLDAvis) (1.9.0)\n",
            "Requirement already satisfied: atomicwrites>=1.0 in /usr/local/lib/python3.6/dist-packages (from pytest->pyLDAvis) (1.4.0)\n",
            "Requirement already satisfied: setuptools in /usr/local/lib/python3.6/dist-packages (from pytest->pyLDAvis) (50.3.2)\n",
            "Requirement already satisfied: more-itertools>=4.0.0 in /usr/local/lib/python3.6/dist-packages (from pytest->pyLDAvis) (8.6.0)\n",
            "Requirement already satisfied: six>=1.10.0 in /usr/local/lib/python3.6/dist-packages (from pytest->pyLDAvis) (1.15.0)\n",
            "Requirement already satisfied: attrs>=17.4.0 in /usr/local/lib/python3.6/dist-packages (from pytest->pyLDAvis) (20.3.0)\n",
            "Requirement already satisfied: pluggy<0.8,>=0.5 in /usr/local/lib/python3.6/dist-packages (from pytest->pyLDAvis) (0.7.1)\n",
            "Building wheels for collected packages: pyLDAvis\n",
            "  Building wheel for pyLDAvis (setup.py) ... \u001b[?25l\u001b[?25hdone\n",
            "  Created wheel for pyLDAvis: filename=pyLDAvis-2.1.2-py2.py3-none-any.whl size=97712 sha256=3aa503cf50d58fa0ae22ff6d7352250ce5eebf4ea3e94db4f11c682fb4126bf0\n",
            "  Stored in directory: /root/.cache/pip/wheels/98/71/24/513a99e58bb6b8465bae4d2d5e9dba8f0bef8179e3051ac414\n",
            "Successfully built pyLDAvis\n",
            "Installing collected packages: funcy, pyLDAvis\n",
            "Successfully installed funcy-1.15 pyLDAvis-2.1.2\n"
          ],
          "name": "stdout"
        },
        {
          "output_type": "execute_result",
          "data": {
            "text/html": [
              "\n",
              "<link rel=\"stylesheet\" type=\"text/css\" href=\"https://cdn.rawgit.com/bmabey/pyLDAvis/files/ldavis.v1.0.0.css\">\n",
              "\n",
              "\n",
              "<div id=\"ldavis_el571406274536092089520128046\"></div>\n",
              "<script type=\"text/javascript\">\n",
              "\n",
              "var ldavis_el571406274536092089520128046_data = {\"mdsDat\": {\"x\": [-0.007245406974244046, 0.08600937889037384, -0.009189243735874398, -0.16032444053731332, 0.028538396898073033, 0.06221131545898497], \"y\": [-0.04242193082051573, -0.09373340686608736, 0.08759639721903151, -0.04316703972704023, 0.12079715571342664, -0.029071175518815013], \"topics\": [1, 2, 3, 4, 5, 6], \"cluster\": [1, 1, 1, 1, 1, 1], \"Freq\": [23.305317717314804, 20.96815157198602, 18.735644505720526, 13.805528662653662, 13.176609462974683, 10.008748079350307]}, \"tinfo\": {\"Term\": [\"price\", \"say\", \"state\", \"gas\", \"district\", \"oil\", \"tax\", \"woman\", \"japanese\", \"farmer\", \"site\", \"marble\", \"estate_tax\", \"name\", \"race\", \"wall\", \"would\", \"business\", \"team\", \"plan\", \"estate\", \"inventory\", \"korean\", \"gooden\", \"light\", \"station\", \"tour\", \"armory\", \"refiner\", \"web\", \"gooden\", \"judge\", \"impeachment\", \"brock\", \"camera\", \"sather\", \"manager\", \"phone\", \"detector\", \"technology\", \"smoke\", \"mail\", \"file\", \"plaintiff\", \"suit\", \"adult\", \"throw\", \"relieve\", \"playoff\", \"girl\", \"earley\", \"furniture\", \"digital\", \"laugh\", \"mother\", \"employee\", \"guy\", \"obviously\", \"definitely\", \"reliever\", \"worker\", \"accuse\", \"ranger\", \"town\", \"young\", \"player\", \"justice\", \"low\", \"think\", \"child\", \"team\", \"season\", \"say\", \"look\", \"start\", \"black\", \"last\", \"make\", \"influence\", \"write\", \"refer\", \"feel\", \"today\", \"know\", \"time\", \"people\", \"try\", \"give\", \"year\", \"also\", \"want\", \"go\", \"call\", \"see\", \"even\", \"would\", \"get\", \"armory\", \"district\", \"community\", \"resolution\", \"bishop\", \"indian\", \"trooper\", \"board\", \"consumer\", \"shelter\", \"profile\", \"roosevelt\", \"support\", \"account\", \"teacher\", \"severe\", \"department\", \"check\", \"rite\", \"plaster\", \"deputy\", \"relationship\", \"playwright\", \"mistrust\", \"regent\", \"controversial\", \"attorney\", \"gay\", \"structure\", \"paragraph\", \"state\", \"school\", \"slave\", \"issue\", \"vote\", \"official\", \"proposal\", \"church\", \"say\", \"include\", \"year\", \"effort\", \"law\", \"would\", \"next\", \"problem\", \"add\", \"city\", \"also\", \"help\", \"people\", \"make\", \"man\", \"take\", \"japanese\", \"korean\", \"violence\", \"scapegoat\", \"everglade\", \"male\", \"ub\", \"project\", \"hatred\", \"ubs\", \"historical\", \"restoration\", \"broker\", \"behavior\", \"contempt\", \"jewish\", \"swiss\", \"prostitute\", \"sexualize\", \"fukuoka\", \"invasion\", \"banking\", \"sense\", \"canal\", \"fresh\", \"otherwise\", \"agricultural\", \"argument\", \"explode\", \"loss\", \"water\", \"woman\", \"executive\", \"natural\", \"history\", \"culture\", \"management\", \"bill\", \"country\", \"much\", \"book\", \"visit\", \"investment\", \"many\", \"dominate\", \"asset\", \"travel\", \"business\", \"learn\", \"private\", \"new\", \"first\", \"man\", \"say\", \"year\", \"point\", \"would\", \"take\", \"time\", \"make\", \"come\", \"people\", \"good\", \"last\", \"also\", \"give\", \"music\", \"band\", \"trade\", \"video\", \"cycling\", \"daily\", \"song\", \"tour\", \"bonus\", \"broadcast\", \"newspaper\", \"french\", \"unfortunately\", \"feature\", \"stage\", \"sometimes\", \"rider\", \"stadium\", \"fan\", \"race\", \"site\", \"portion\", \"update\", \"magazine\", \"radio\", \"guitar\", \"racing\", \"web\", \"disabled\", \"inexpensive\", \"name\", \"coach\", \"report\", \"sign\", \"pitcher\", \"live\", \"play\", \"team\", \"year\", \"may\", \"money\", \"offer\", \"set\", \"make\", \"contract\", \"spend\", \"man\", \"base\", \"also\", \"woman\", \"would\", \"time\", \"gas\", \"oil\", \"price\", \"inventory\", \"refiner\", \"soar\", \"heating_oil\", \"barrel\", \"midwest\", \"gasoline\", \"crude\", \"nail\", \"collusion\", \"fuel\", \"convenience\", \"margin\", \"winter\", \"rise\", \"spread\", \"pump\", \"station\", \"profit\", \"crisis\", \"capital\", \"average\", \"interment\", \"occasionally\", \"boyfriend\", \"slash\", \"describe\", \"wholesale\", \"period\", \"demand\", \"service\", \"police\", \"financial\", \"industry\", \"analyst\", \"market\", \"accord\", \"sharply\", \"say\", \"strong\", \"high\", \"year\", \"low\", \"system\", \"last\", \"owner\", \"take\", \"country\", \"business\", \"yesterday\", \"much\", \"company\", \"farmer\", \"estate_tax\", \"repeal\", \"democratic\", \"marble\", \"loft\", \"eliminate\", \"architect\", \"taxis\", \"light\", \"tax\", \"door\", \"merchant\", \"sincavage\", \"complicate\", \"bar\", \"frame\", \"clerestory\", \"billionaire\", \"onyx\", \"saving\", \"lobbyist\", \"granite\", \"crisp\", \"pattern\", \"exemption\", \"chinese\", \"heir\", \"rectangle\", \"partly\", \"estate\", \"wall\", \"farm\", \"wood\", \"plan\", \"baratloo\", \"choose\", \"foot\", \"floor\", \"small\", \"would\", \"business\", \"say\", \"want\", \"family\", \"pay\", \"could\", \"proposal\", \"year\", \"owner\", \"make\", \"people\", \"take\"], \"Freq\": [32.0, 174.0, 49.0, 19.0, 22.0, 13.0, 12.0, 33.0, 13.0, 9.0, 14.0, 9.0, 8.0, 19.0, 12.0, 11.0, 46.0, 17.0, 17.0, 18.0, 9.0, 8.0, 10.0, 12.0, 8.0, 11.0, 9.0, 11.0, 7.0, 10.0, 12.260957661752688, 8.212530251805548, 7.406013187367017, 7.401113803424444, 5.8025111793886115, 5.79490665159075, 5.791068766911183, 4.985863056068414, 3.376755863822515, 3.376115453073478, 3.3725933211708483, 3.370364478039516, 3.3697151620953196, 3.369183649161375, 3.368999947706943, 3.368451133250975, 3.3679135138974923, 3.3677369365991883, 3.367098052455036, 3.3674186394807752, 3.367158098913825, 3.3666133554042155, 2.563280025452255, 2.5620004761249184, 2.5618490878072078, 2.55976628987649, 2.559700645866458, 2.5595752098317837, 2.559435271050707, 2.5598680635354554, 4.9847644094198875, 4.983560427034332, 6.599165867405144, 4.174143322183595, 4.17639252004672, 4.175837599171214, 4.17400414670496, 15.52062751075068, 9.84004219253867, 6.608986516626967, 11.452449395676508, 8.224992436345806, 66.53597880524005, 7.417321258614613, 9.85432917878417, 7.4161895355269225, 14.704182934748413, 16.31715091074715, 4.983008813802742, 7.413359718939402, 4.179575236796702, 6.603555874184598, 7.408141274575974, 7.411179727164372, 9.8463124676675, 9.85357300049806, 6.61247684426117, 8.220272174043012, 13.151593199667225, 9.038625515019167, 8.233460513639985, 7.417142136974834, 7.411423475077593, 7.436518823905171, 6.623165622793964, 6.622524448742485, 6.614408508308325, 10.354519641736399, 21.443744333869127, 7.228900274071078, 7.224672153026312, 5.650442192925037, 4.873881262286847, 4.8719015768079545, 4.867764107410927, 4.863473262751311, 4.852124408993036, 4.079472029449505, 4.077151255700082, 7.9699903137570995, 11.168489027838014, 3.2877445745244227, 3.2873128346061535, 3.2873551844920916, 3.286524668891095, 3.285694611126703, 3.28569918949275, 3.2849881692455902, 6.440291831015782, 2.5021489252466123, 2.5012902526944236, 2.4986405233444957, 2.4971401927907655, 2.497418099609842, 2.4971292047122517, 2.4969744559398497, 2.4968826597005997, 38.78987303147954, 14.339869164147018, 4.858143128998938, 5.654945015932647, 8.022788946688832, 9.592874569844009, 8.025942525222275, 6.435534908692541, 46.770514456009295, 7.230716969718683, 24.618238674763568, 4.868632623450117, 6.4490108713164345, 14.809499639824288, 5.654827351925229, 6.451892952743267, 5.658497827985423, 5.643809971868785, 7.248220520954467, 5.654110837638812, 6.457124193789018, 6.154175543779515, 5.665750417641096, 5.670735800430101, 13.28916607936469, 10.19338306038144, 4.773744326455646, 4.773301690934178, 4.001386659597392, 4.000723524495451, 4.000390934219155, 3.2279019494289307, 3.225507340348605, 3.2251671819048893, 3.2251279092523375, 2.4533505367445474, 2.4525984245391697, 2.452490220199587, 2.452095243678351, 2.45200156203841, 2.45179865333356, 2.4517125398610378, 2.4513961086449054, 2.450146747385605, 2.4499968158526864, 7.8709554790853336, 4.0006417064693025, 1.6788418739788273, 1.6787866468111765, 1.6788067945001157, 1.6787990217876316, 1.6784907723741138, 1.6785248291274986, 1.6784159088801873, 5.553101116360845, 22.582755397168853, 6.320616383341451, 3.2292924467833384, 4.774273689084832, 3.227251291575978, 3.2264961111946198, 7.104346755834462, 9.419297805901042, 10.203878676775876, 7.877245648935695, 4.772516237883145, 3.9993894815790867, 10.19260497095276, 3.2278663585875558, 4.001839522372128, 4.00061307016015, 7.106480569956437, 4.000943614985793, 5.550783620770165, 6.326073645685612, 5.55356420638885, 6.323391241698306, 14.870206980330979, 10.209117484990218, 4.780568768016762, 7.896518703175431, 6.3230876968212915, 6.326663962744279, 7.113438374900176, 5.555733202262069, 5.556381201029172, 4.773502554188375, 4.7848110326726045, 4.781963765362608, 4.779613951651599, 5.840112629785224, 5.121859527141351, 3.7004504291750977, 3.695379274562365, 3.6946603359811747, 3.6935344510332726, 3.6931181599722143, 7.987755500809194, 2.9808423458509514, 2.980177365343569, 2.97996967197567, 2.979675163382872, 2.9796890297035152, 2.9796691345478092, 2.979637483163732, 2.979623013959582, 2.9791431186886155, 2.978766316497216, 2.978426893083203, 10.127196141730778, 11.563951940790108, 2.2655506069897258, 2.2648168977626324, 2.2646716028376286, 2.26436880459662, 2.2641743746658576, 2.2639766288758114, 7.991125619609073, 1.5542826633700184, 1.553299058929589, 12.31611181470839, 5.858152110058919, 6.5631779485759, 8.72430008903237, 4.413450607829107, 6.565310950420975, 5.12699127154646, 5.842098528054777, 10.176155105505465, 5.8494778221711465, 5.129396173852849, 4.413492508232791, 4.412044382050804, 6.5930056100470935, 3.706785227616908, 3.6987189477451783, 4.4305908873532465, 3.701737585460919, 4.429686562093887, 4.4511956369459895, 4.442002266359345, 3.714861756508244, 18.430039892556053, 12.77912016157911, 29.705914157307767, 7.86147212316152, 7.160255860212541, 4.345000183727365, 4.34400701090645, 4.341466249266388, 2.9356246547835467, 2.934717794780209, 5.756512530324986, 2.2393103844541336, 2.2327449999851714, 2.231175545252237, 2.2309422129353886, 5.046290963408851, 2.228168694397261, 7.1657108302833805, 4.346266680470605, 4.343610835073774, 8.574457426496457, 7.86429397687749, 3.625356709644571, 3.6321098244917622, 3.6409482570116034, 1.5328490354357218, 1.5322160747734936, 1.5321937772956198, 1.532167020322171, 1.5302619525835601, 2.9346242892278345, 4.349386313407214, 4.34415518124329, 5.048221493428647, 5.068894564075805, 7.154509728237077, 6.452972381606712, 4.350234768403992, 7.1647556351022, 3.6389432102592996, 3.6390160007354555, 24.960028050448773, 4.345751105240281, 5.762464662225067, 12.183662994006708, 5.773169177860914, 4.337839096962428, 5.072856897821353, 4.366956438262494, 4.383849295209188, 4.370850584882157, 4.3686657197599015, 4.367091086257913, 4.3628560040088225, 4.3491970006273295, 8.586498273842443, 7.930742262305075, 4.668618855055194, 4.667664274128003, 8.095604157876123, 4.617011605139343, 3.3682202257282703, 4.465429923346579, 2.7169016605568848, 6.485792588321069, 9.866352651973754, 5.207796670859364, 2.064290652252851, 2.0628509134368405, 2.0620508399994675, 4.020172118630196, 1.9595509646256193, 1.9583369772056225, 1.4135795178706434, 1.413142657231116, 1.4129197468497665, 1.4128037023277111, 1.4126253740226316, 1.4125213491780018, 1.4124814657029072, 1.412537521107629, 1.4124552409521602, 1.412511296356882, 1.4123745998436132, 1.4123091472365406, 6.632901201794753, 7.472720871400125, 2.7154236773127014, 2.6388039157531247, 7.93609385977418, 2.5031948554820036, 2.720174072370932, 3.490040312056616, 2.066174682054434, 4.0135219589199345, 11.503291977859867, 5.325636714182672, 21.095785676891154, 5.987208064198189, 4.677630116491044, 4.020356128964604, 4.024979552521301, 3.3754383698317936, 5.346371313360792, 3.3642240107936057, 3.6370046894011905, 3.377125714002774, 2.7264900850487583], \"Total\": [32.0, 174.0, 49.0, 19.0, 22.0, 13.0, 12.0, 33.0, 13.0, 9.0, 14.0, 9.0, 8.0, 19.0, 12.0, 11.0, 46.0, 17.0, 17.0, 18.0, 9.0, 8.0, 10.0, 12.0, 8.0, 11.0, 9.0, 11.0, 7.0, 10.0, 12.907799185257426, 8.850485818985959, 8.040106788105824, 8.039232586613489, 6.419979019924551, 6.419277055400925, 6.41869614906746, 5.608415676896115, 3.9880245885653043, 3.9876720465364803, 3.987367453174857, 3.9868539881144938, 3.9868310965082627, 3.9868171732923074, 3.9867833534501527, 3.986990436317008, 3.9869304859742383, 3.987129350637302, 3.9863912907842205, 3.9867866323443426, 3.9867665381507784, 3.986755441784466, 3.1761632869453424, 3.176359271955809, 3.1763222335526633, 3.1758964111008425, 3.175832200232655, 3.175740740733707, 3.1756609566531298, 3.1762976677557453, 6.399172170798996, 6.399312770956445, 8.664305470542931, 5.453027867583768, 5.51520641948799, 5.514985650982829, 5.5147450386561445, 24.89513964996387, 14.818293326496576, 9.386354738359229, 17.835111354915096, 12.4216350991782, 174.4480039770433, 11.56984077306447, 17.111756193019616, 11.725741864948954, 31.51624432623931, 42.80215755242785, 7.162350117699105, 13.377010598652797, 5.588615028587436, 11.643418778212684, 14.062510456802256, 15.69828207448182, 26.93315864872944, 27.656841674565293, 13.045538403132618, 21.069065027616425, 75.68513877229397, 29.13523271104234, 23.178825135860322, 17.612966138664056, 17.66799591795162, 18.42696725451021, 18.342210617592468, 46.84189076801148, 17.429155141199793, 11.022598010367986, 22.91477143451557, 7.862484059744636, 7.8623811993140675, 6.2807090633124085, 5.490943502572258, 5.490611724717308, 5.490315122122124, 5.490397167167874, 5.487935352177536, 4.699223116065506, 4.698969122564991, 9.3010785259381, 13.254578580607282, 3.907890097130628, 3.9078849187811344, 3.9079749658630023, 3.908138759171109, 3.907710780012379, 3.9077386530621676, 3.9075425224520743, 7.849262750012416, 3.1171393583662157, 3.1169853763444224, 3.116769749760056, 3.1165211656279777, 3.116974708584174, 3.116660583540775, 3.116531746916348, 3.1165212065161016, 49.587028949930726, 18.87736357012694, 6.2657818783519375, 7.809769419937573, 11.742610180790603, 14.590352254209218, 11.932215256139276, 9.504166852643536, 174.4480039770433, 12.327856787221721, 75.68513877229397, 6.9764732772786155, 11.37032916507171, 46.84189076801148, 10.043693444725491, 15.242632917653198, 11.262133952823426, 11.732762018334654, 29.13523271104234, 12.291093258227242, 27.656841674565293, 42.80215755242785, 20.551686723797715, 25.57892792975872, 13.957729727014874, 10.848467690076435, 5.407191877172234, 5.407051167477142, 4.630235013186472, 4.629864259291108, 4.629837838136348, 3.85303342878883, 3.8525933705078543, 3.8524872836099973, 3.8525974405440455, 3.0755438131011523, 3.0754100848481007, 3.0752963211628157, 3.0753996326839914, 3.0753351513355267, 3.0752539208351686, 3.0752467176277865, 3.075333368604294, 3.0751940396037654, 3.0751667542713244, 9.932629585405426, 5.285494925060526, 2.298191300723901, 2.298169076112586, 2.2982039092134885, 2.2982343364126554, 2.2981155008104635, 2.298188478915301, 2.29810618956379, 7.807103678723304, 33.60640981595072, 9.09587892434135, 4.561638617015327, 7.008536646357012, 4.643864746080448, 4.643644600748909, 11.862463368645958, 18.221547840615724, 20.89846261438813, 15.00344393373658, 7.746363703306769, 6.138551600471317, 25.184536909577588, 4.663436870513509, 6.597215862235064, 6.6590622921841645, 17.235794445016268, 6.919958872261057, 12.958163070235676, 17.34740261046756, 13.891359125058987, 20.551686723797715, 174.4480039770433, 75.68513877229397, 10.693476163805563, 46.84189076801148, 25.57892792975872, 26.93315864872944, 42.80215755242785, 22.154946107011813, 27.656841674565293, 16.025750881909534, 31.51624432623931, 29.13523271104234, 21.069065027616425, 6.484376726288969, 5.766805389014105, 4.331524627670099, 4.331733485232397, 4.331879616983721, 4.3316823289314375, 4.331477333417692, 9.414866506859935, 3.6139925336850567, 3.6140139847176544, 3.6142400338921155, 3.613947750640966, 3.6141549179474577, 3.614204334406094, 3.614175357074592, 3.6142374404541373, 3.6141249800693647, 3.6139016335006833, 3.6140673814242112, 12.392465898237475, 14.603431697047503, 2.896400976401141, 2.8964876427361053, 2.896521935966854, 2.896485833331619, 2.896381213284787, 2.896502008125567, 10.225692906444975, 2.178602059225594, 2.178449132893767, 19.10271402788924, 9.727299700812328, 11.101389377634277, 16.21890528763175, 7.481947047879364, 14.857414521400184, 12.011021135870344, 17.835111354915096, 75.68513877229397, 19.911541503973787, 14.355855652215737, 10.894999511742508, 12.131140497871087, 42.80215755242785, 8.243455885405018, 9.00115610025278, 20.551686723797715, 11.250039274437908, 29.13523271104234, 33.60640981595072, 46.84189076801148, 26.93315864872944, 19.169337811903087, 13.50148232102797, 32.06318977094412, 8.539688792014122, 7.830473258088991, 4.995399665289197, 4.995676663932178, 4.995960488323345, 3.5782100416640064, 3.578254488307413, 7.22321681312398, 2.8684792028957484, 2.8693457585872593, 2.869426879162833, 2.8695406001436328, 6.495740508299381, 2.8699384688960086, 9.431558713502065, 5.7727980338830855, 5.772903753576745, 11.491250829372389, 10.81157389350124, 5.001131155525764, 5.061559000818026, 5.077917543428859, 2.1598900826852505, 2.160128121640337, 2.1601238159455036, 2.160128083056383, 2.160302692078189, 4.234415474243857, 6.441974269851255, 6.461894583210281, 7.868993711365279, 8.095028147490618, 12.544216237317768, 11.076741219006632, 7.327093463633982, 14.840347032921063, 5.72014819539255, 5.841643869309146, 174.4480039770433, 8.049477339108881, 14.033304511318685, 75.68513877229397, 24.89513964996387, 11.14380396081025, 31.51624432623931, 14.421731540834053, 25.57892792975872, 18.221547840615724, 17.235794445016268, 16.80843148156696, 20.89846261438813, 13.59642140231586, 9.265946089847631, 8.611381427912184, 5.3338416092542245, 5.333882610681638, 9.36766507410268, 5.343380099251281, 4.021813133683799, 5.375813162280838, 3.365951335243955, 8.13996408812358, 12.882362966029444, 6.803824247384056, 2.710498073098776, 2.7108248144832436, 2.7109847346525267, 5.487682774304078, 2.7322013292668554, 2.732381283400819, 2.054634765265797, 2.0545855411618117, 2.054771239178687, 2.0547589306140823, 2.0546323738597345, 2.054672859656693, 2.0547132593910016, 2.0548084562085354, 2.054694667436946, 2.0548057708137053, 2.054695967458234, 2.054804765993893, 9.711645671339795, 11.118851497793608, 4.143774042198828, 4.099636812841918, 18.014265954101027, 4.201747150220334, 4.96716620386658, 7.161199336299735, 3.500773242081281, 9.324858182702338, 46.84189076801148, 17.235794445016268, 174.4480039770433, 23.178825135860322, 15.42925972306141, 16.997111999747858, 17.345420082108454, 11.932215256139276, 75.68513877229397, 14.421731540834053, 42.80215755242785, 27.656841674565293, 25.57892792975872], \"Category\": [\"Default\", \"Default\", \"Default\", \"Default\", \"Default\", \"Default\", \"Default\", \"Default\", \"Default\", \"Default\", \"Default\", \"Default\", \"Default\", \"Default\", \"Default\", \"Default\", \"Default\", \"Default\", \"Default\", \"Default\", \"Default\", \"Default\", \"Default\", \"Default\", \"Default\", \"Default\", \"Default\", \"Default\", \"Default\", \"Default\", \"Topic1\", \"Topic1\", \"Topic1\", \"Topic1\", \"Topic1\", \"Topic1\", \"Topic1\", \"Topic1\", \"Topic1\", \"Topic1\", \"Topic1\", \"Topic1\", \"Topic1\", \"Topic1\", \"Topic1\", \"Topic1\", \"Topic1\", \"Topic1\", \"Topic1\", \"Topic1\", \"Topic1\", \"Topic1\", \"Topic1\", \"Topic1\", \"Topic1\", \"Topic1\", \"Topic1\", \"Topic1\", \"Topic1\", \"Topic1\", \"Topic1\", \"Topic1\", \"Topic1\", \"Topic1\", \"Topic1\", \"Topic1\", \"Topic1\", \"Topic1\", \"Topic1\", \"Topic1\", \"Topic1\", \"Topic1\", \"Topic1\", \"Topic1\", \"Topic1\", \"Topic1\", \"Topic1\", \"Topic1\", \"Topic1\", \"Topic1\", \"Topic1\", \"Topic1\", \"Topic1\", \"Topic1\", \"Topic1\", \"Topic1\", \"Topic1\", \"Topic1\", \"Topic1\", \"Topic1\", \"Topic1\", \"Topic1\", \"Topic1\", \"Topic1\", \"Topic1\", \"Topic1\", \"Topic1\", \"Topic2\", \"Topic2\", \"Topic2\", \"Topic2\", \"Topic2\", \"Topic2\", \"Topic2\", \"Topic2\", \"Topic2\", \"Topic2\", \"Topic2\", \"Topic2\", \"Topic2\", \"Topic2\", \"Topic2\", \"Topic2\", \"Topic2\", \"Topic2\", \"Topic2\", \"Topic2\", \"Topic2\", \"Topic2\", \"Topic2\", \"Topic2\", \"Topic2\", \"Topic2\", \"Topic2\", \"Topic2\", \"Topic2\", \"Topic2\", \"Topic2\", \"Topic2\", \"Topic2\", \"Topic2\", \"Topic2\", \"Topic2\", \"Topic2\", \"Topic2\", \"Topic2\", \"Topic2\", \"Topic2\", \"Topic2\", \"Topic2\", \"Topic2\", \"Topic2\", \"Topic2\", \"Topic2\", \"Topic2\", \"Topic2\", \"Topic2\", \"Topic2\", \"Topic2\", \"Topic2\", \"Topic2\", \"Topic3\", \"Topic3\", \"Topic3\", \"Topic3\", \"Topic3\", \"Topic3\", \"Topic3\", \"Topic3\", \"Topic3\", \"Topic3\", \"Topic3\", \"Topic3\", \"Topic3\", \"Topic3\", \"Topic3\", \"Topic3\", \"Topic3\", \"Topic3\", \"Topic3\", \"Topic3\", \"Topic3\", \"Topic3\", \"Topic3\", \"Topic3\", \"Topic3\", \"Topic3\", \"Topic3\", \"Topic3\", \"Topic3\", \"Topic3\", \"Topic3\", \"Topic3\", \"Topic3\", \"Topic3\", \"Topic3\", \"Topic3\", \"Topic3\", \"Topic3\", \"Topic3\", \"Topic3\", \"Topic3\", \"Topic3\", \"Topic3\", \"Topic3\", \"Topic3\", \"Topic3\", \"Topic3\", \"Topic3\", \"Topic3\", \"Topic3\", \"Topic3\", \"Topic3\", \"Topic3\", \"Topic3\", \"Topic3\", \"Topic3\", \"Topic3\", \"Topic3\", \"Topic3\", \"Topic3\", \"Topic3\", \"Topic3\", \"Topic3\", \"Topic3\", \"Topic3\", \"Topic3\", \"Topic4\", \"Topic4\", \"Topic4\", \"Topic4\", \"Topic4\", \"Topic4\", \"Topic4\", \"Topic4\", \"Topic4\", \"Topic4\", \"Topic4\", \"Topic4\", \"Topic4\", \"Topic4\", \"Topic4\", \"Topic4\", \"Topic4\", \"Topic4\", \"Topic4\", \"Topic4\", \"Topic4\", \"Topic4\", \"Topic4\", \"Topic4\", \"Topic4\", \"Topic4\", \"Topic4\", \"Topic4\", \"Topic4\", \"Topic4\", \"Topic4\", \"Topic4\", \"Topic4\", \"Topic4\", \"Topic4\", \"Topic4\", \"Topic4\", \"Topic4\", \"Topic4\", \"Topic4\", \"Topic4\", \"Topic4\", \"Topic4\", \"Topic4\", \"Topic4\", \"Topic4\", \"Topic4\", \"Topic4\", \"Topic4\", \"Topic4\", \"Topic4\", \"Topic4\", \"Topic5\", \"Topic5\", \"Topic5\", \"Topic5\", \"Topic5\", \"Topic5\", \"Topic5\", \"Topic5\", \"Topic5\", \"Topic5\", \"Topic5\", \"Topic5\", \"Topic5\", \"Topic5\", \"Topic5\", \"Topic5\", \"Topic5\", \"Topic5\", \"Topic5\", \"Topic5\", \"Topic5\", \"Topic5\", \"Topic5\", \"Topic5\", \"Topic5\", \"Topic5\", \"Topic5\", \"Topic5\", \"Topic5\", \"Topic5\", \"Topic5\", \"Topic5\", \"Topic5\", \"Topic5\", \"Topic5\", \"Topic5\", \"Topic5\", \"Topic5\", \"Topic5\", \"Topic5\", \"Topic5\", \"Topic5\", \"Topic5\", \"Topic5\", \"Topic5\", \"Topic5\", \"Topic5\", \"Topic5\", \"Topic5\", \"Topic5\", \"Topic5\", \"Topic5\", \"Topic5\", \"Topic5\", \"Topic5\", \"Topic6\", \"Topic6\", \"Topic6\", \"Topic6\", \"Topic6\", \"Topic6\", \"Topic6\", \"Topic6\", \"Topic6\", \"Topic6\", \"Topic6\", \"Topic6\", \"Topic6\", \"Topic6\", \"Topic6\", \"Topic6\", \"Topic6\", \"Topic6\", \"Topic6\", \"Topic6\", \"Topic6\", \"Topic6\", \"Topic6\", \"Topic6\", \"Topic6\", \"Topic6\", \"Topic6\", \"Topic6\", \"Topic6\", \"Topic6\", \"Topic6\", \"Topic6\", \"Topic6\", \"Topic6\", \"Topic6\", \"Topic6\", \"Topic6\", \"Topic6\", \"Topic6\", \"Topic6\", \"Topic6\", \"Topic6\", \"Topic6\", \"Topic6\", \"Topic6\", \"Topic6\", \"Topic6\", \"Topic6\", \"Topic6\", \"Topic6\", \"Topic6\", \"Topic6\", \"Topic6\"], \"logprob\": [30.0, 29.0, 28.0, 27.0, 26.0, 25.0, 24.0, 23.0, 22.0, 21.0, 20.0, 19.0, 18.0, 17.0, 16.0, 15.0, 14.0, 13.0, 12.0, 11.0, 10.0, 9.0, 8.0, 7.0, 6.0, 5.0, 4.0, 3.0, 2.0, 1.0, -5.183199882507324, -5.584000110626221, -5.687300205230713, -5.688000202178955, -5.931300163269043, -5.932700157165527, -5.933300018310547, -6.083000183105469, -6.472700119018555, -6.472899913787842, -6.473999977111816, -6.474599838256836, -6.474800109863281, -6.474999904632568, -6.474999904632568, -6.475200176239014, -6.475299835205078, -6.475399971008301, -6.475599765777588, -6.475500106811523, -6.475599765777588, -6.4756999015808105, -6.748300075531006, -6.748799800872803, -6.748899936676025, -6.74970006942749, -6.74970006942749, -6.749800205230713, -6.749800205230713, -6.74970006942749, -6.083199977874756, -6.083499908447266, -5.802700042724609, -6.260700225830078, -6.260200023651123, -6.260300159454346, -6.260799884796143, -4.947500228881836, -5.403200149536133, -5.801199913024902, -5.251399993896484, -5.582499980926514, -3.4918999671936035, -5.685800075531006, -5.401700019836426, -5.685999870300293, -5.001500129699707, -4.89739990234375, -6.083600044250488, -5.686299800872803, -6.259399890899658, -5.802000045776367, -5.687099933624268, -5.686600208282471, -5.402500152587891, -5.401800155639648, -5.8007001876831055, -5.583000183105469, -5.113100051879883, -5.488100051879883, -5.581399917602539, -5.685800075531006, -5.686600208282471, -5.683199882507324, -5.799099922180176, -5.799200057983398, -5.8003997802734375, -5.246500015258789, -4.518499851226807, -5.605899810791016, -5.606500148773193, -5.852200031280518, -6.000100135803223, -6.000500202178955, -6.001299858093262, -6.002200126647949, -6.004499912261963, -6.177999973297119, -6.178599834442139, -5.508299827575684, -5.170899868011475, -6.393799781799316, -6.393899917602539, -6.393899917602539, -6.394100189208984, -6.394400119781494, -6.394400119781494, -6.394599914550781, -5.721399784088135, -6.666800022125244, -6.667099952697754, -6.6682000160217285, -6.668799877166748, -6.668700218200684, -6.668799877166748, -6.668900012969971, -6.668900012969971, -3.925800085067749, -4.920899868011475, -6.003300189971924, -5.851399898529053, -5.501699924468994, -5.32289981842041, -5.501299858093262, -5.722099781036377, -3.7386999130249023, -5.605599880218506, -4.380499839782715, -6.001100063323975, -5.71999979019165, -4.888700008392334, -5.851399898529053, -5.719600200653076, -5.850800037384033, -5.853400230407715, -5.6031999588012695, -5.851600170135498, -5.718800067901611, -5.7667999267578125, -5.8495001792907715, -5.848599910736084, -4.884399890899658, -5.149600028991699, -5.908199787139893, -5.908299922943115, -6.084700107574463, -6.08489990234375, -6.085000038146973, -6.299499988555908, -6.300300121307373, -6.3003997802734375, -6.3003997802734375, -6.57390022277832, -6.57420015335083, -6.5742998123168945, -6.574399948120117, -6.57450008392334, -6.5746002197265625, -6.5746002197265625, -6.574699878692627, -6.575200080871582, -6.575300216674805, -5.408199787139893, -6.08489990234375, -6.9532999992370605, -6.9532999992370605, -6.9532999992370605, -6.9532999992370605, -6.953499794006348, -6.953499794006348, -6.953499794006348, -5.756999969482422, -4.3541998863220215, -5.627600193023682, -6.299099922180176, -5.908100128173828, -6.299699783325195, -6.300000190734863, -5.510700225830078, -5.228600025177002, -5.148600101470947, -5.407400131225586, -5.9085001945495605, -6.08519983291626, -5.149700164794922, -6.299600124359131, -6.08459997177124, -6.08489990234375, -5.51039981842041, -6.084799766540527, -5.757400035858154, -5.626699924468994, -5.756899833679199, -5.627099990844727, -4.771999835968018, -5.148099899291992, -5.906799793243408, -5.40500020980835, -5.627200126647949, -5.6265997886657715, -5.509399890899658, -5.756499767303467, -5.756400108337402, -5.908299922943115, -5.905900001525879, -5.906499862670898, -5.9070000648498535, -5.401299953460693, -5.53249979019165, -5.857600212097168, -5.85890007019043, -5.859099864959717, -5.859399795532227, -5.859499931335449, -5.088099956512451, -6.073800086975098, -6.073999881744385, -6.074100017547607, -6.07420015335083, -6.07420015335083, -6.07420015335083, -6.07420015335083, -6.07420015335083, -6.074399948120117, -6.07450008392334, -6.0746002197265625, -4.850800037384033, -4.718100070953369, -6.348199844360352, -6.348499774932861, -6.348599910736084, -6.348700046539307, -6.348800182342529, -6.348899841308594, -5.087699890136719, -6.724999904632568, -6.725599765777588, -4.655099868774414, -5.398200035095215, -5.2845001220703125, -4.999899864196777, -5.681399822235107, -5.284200191497803, -5.531499862670898, -5.400899887084961, -4.8460001945495605, -5.399700164794922, -5.531000137329102, -5.681399822235107, -5.681700229644775, -5.28000020980835, -5.855899810791016, -5.857999801635742, -5.677499771118164, -5.8572001457214355, -5.677700042724609, -5.672800064086914, -5.674900054931641, -5.853700160980225, -4.205399990081787, -4.571599960327148, -3.7279999256134033, -5.057400226593018, -5.1508002281188965, -5.650400161743164, -5.650599956512451, -5.651199817657471, -6.042500019073486, -6.042799949645996, -5.369100093841553, -6.313199996948242, -6.316199779510498, -6.31689977645874, -6.316999912261963, -5.500699996948242, -6.31820011138916, -5.150100231170654, -5.650100231170654, -5.650700092315674, -4.970600128173828, -5.05709981918335, -5.831399917602539, -5.829599857330322, -5.827199935913086, -6.692299842834473, -6.692699909210205, -6.692699909210205, -6.692699909210205, -6.693999767303467, -6.042799949645996, -5.649400234222412, -5.650599956512451, -5.500400066375732, -5.496300220489502, -5.151700019836426, -5.254899978637695, -5.649199962615967, -5.150199890136719, -5.827700138092041, -5.827700138092041, -3.902100086212158, -5.650199890136719, -5.368000030517578, -4.61929988861084, -5.366199970245361, -5.6519999504089355, -5.495500087738037, -5.645299911499023, -5.641499996185303, -5.644400119781494, -5.644899845123291, -5.645299911499023, -5.646299839019775, -5.649400234222412, -4.694200038909912, -4.77370023727417, -5.303500175476074, -5.303800106048584, -4.7530999183654785, -5.314700126647949, -5.630000114440918, -5.3480000495910645, -5.844900131225586, -4.974800109863281, -4.555300235748291, -5.194300174713135, -6.11959981918335, -6.120299816131592, -6.120699882507324, -5.453100204467773, -6.1717000007629395, -6.172299861907959, -6.498300075531006, -6.498600006103516, -6.498799800872803, -6.498799800872803, -6.499000072479248, -6.499000072479248, -6.499100208282471, -6.499000072479248, -6.499100208282471, -6.499000072479248, -6.499100208282471, -6.499199867248535, -4.952400207519531, -4.833199977874756, -5.8454999923706055, -5.874100208282471, -4.7729997634887695, -5.926799774169922, -5.843699932098389, -5.5945000648498535, -6.11870002746582, -5.454699993133545, -4.401800155639648, -5.171899795532227, -3.795300006866455, -5.054800033569336, -5.301599979400635, -5.453000068664551, -5.451900005340576, -5.627900123596191, -5.168000221252441, -5.631199836730957, -5.553299903869629, -5.627399921417236, -5.841400146484375], \"loglift\": [30.0, 29.0, 28.0, 27.0, 26.0, 25.0, 24.0, 23.0, 22.0, 21.0, 20.0, 19.0, 18.0, 17.0, 16.0, 15.0, 14.0, 13.0, 12.0, 11.0, 10.0, 9.0, 8.0, 7.0, 6.0, 5.0, 4.0, 3.0, 2.0, 1.0, 1.4051, 1.3817, 1.3743, 1.3738, 1.3554, 1.3542, 1.3536, 1.3388, 1.2901, 1.29, 1.289, 1.2885, 1.2883, 1.2882, 1.2881, 1.2879, 1.2878, 1.2877, 1.2877, 1.2876, 1.2876, 1.2874, 1.2421, 1.2415, 1.2415, 1.2408, 1.2408, 1.2408, 1.2408, 1.2407, 1.2067, 1.2064, 1.1842, 1.1892, 1.1784, 1.1783, 1.1779, 0.984, 1.0471, 1.1057, 1.0135, 1.0442, 0.4926, 1.0119, 0.9046, 0.9984, 0.6941, 0.4921, 1.0937, 0.8662, 1.166, 0.8894, 0.8156, 0.7059, 0.4502, 0.4244, 0.777, 0.5153, -0.2936, 0.286, 0.4215, 0.5916, 0.5878, 0.5491, 0.4379, -0.4998, 0.4876, 1.4996, 1.4958, 1.4781, 1.4776, 1.4564, 1.443, 1.4426, 1.4418, 1.4409, 1.439, 1.4207, 1.4202, 1.4077, 1.3909, 1.3894, 1.3892, 1.3892, 1.3889, 1.3888, 1.3888, 1.3886, 1.3643, 1.3424, 1.3421, 1.3411, 1.3406, 1.3406, 1.3405, 1.3405, 1.3405, 1.3166, 1.2872, 1.3077, 1.2393, 1.1812, 1.1428, 1.1656, 1.1723, 0.2458, 1.0286, 0.4391, 1.2024, 0.9951, 0.4107, 0.9877, 0.7024, 0.8739, 0.8303, 0.171, 0.7857, 0.1075, -0.3773, 0.2737, 0.0557, 1.6257, 1.6125, 1.5501, 1.5501, 1.5288, 1.5287, 1.5286, 1.4977, 1.4971, 1.497, 1.497, 1.4487, 1.4485, 1.4484, 1.4483, 1.4482, 1.4482, 1.4481, 1.448, 1.4475, 1.4475, 1.4421, 1.3962, 1.3607, 1.3607, 1.3607, 1.3607, 1.3605, 1.3605, 1.3605, 1.3341, 1.2772, 1.3107, 1.3293, 1.2909, 1.3108, 1.3106, 1.1621, 1.0149, 0.9578, 1.0304, 1.1904, 1.2463, 0.7702, 1.3068, 1.1748, 1.1652, 0.7888, 1.1269, 0.827, 0.666, 0.7579, 0.4961, -0.7875, -0.3286, 0.8697, -0.1056, 0.2772, 0.2262, -0.1199, 0.2915, 0.0698, 0.4636, -0.2103, -0.1324, 0.1913, 1.8755, 1.8615, 1.8226, 1.8212, 1.821, 1.8207, 1.8207, 1.8157, 1.7875, 1.7873, 1.7871, 1.7871, 1.7871, 1.787, 1.787, 1.787, 1.7869, 1.7868, 1.7867, 1.7782, 1.7467, 1.7344, 1.7341, 1.734, 1.7339, 1.7338, 1.7337, 1.7335, 1.6424, 1.6419, 1.5412, 1.473, 1.4545, 1.36, 1.4523, 1.1634, 1.1288, 0.864, -0.0264, 0.7552, 0.9509, 1.0765, 0.9687, 0.1095, 1.1808, 1.0907, 0.4457, 0.8685, 0.0965, -0.0414, -0.3756, -0.0009, 1.9874, 1.9717, 1.9504, 1.944, 1.9372, 1.8872, 1.887, 1.8863, 1.8288, 1.8285, 1.7998, 1.7791, 1.7759, 1.7751, 1.775, 1.7742, 1.7736, 1.752, 1.7429, 1.7423, 1.7339, 1.7084, 1.705, 1.6949, 1.6941, 1.6838, 1.6833, 1.6833, 1.6832, 1.6819, 1.6601, 1.6339, 1.6296, 1.5828, 1.5586, 1.4652, 1.4864, 1.5054, 1.2986, 1.5744, 1.5534, 0.0824, 1.4103, 1.1367, 0.2002, 0.5653, 1.0832, 0.2001, 0.8321, 0.2629, 0.5991, 0.6542, 0.6789, 0.4602, 0.8869, 2.2256, 2.2194, 2.1685, 2.1683, 2.1558, 2.1556, 2.1244, 2.1162, 2.0875, 2.0745, 2.035, 2.0344, 2.0294, 2.0285, 2.0281, 1.9905, 1.9693, 1.9686, 1.9277, 1.9275, 1.9272, 1.9271, 1.9271, 1.927, 1.9269, 1.9269, 1.9269, 1.9269, 1.9269, 1.9268, 1.9204, 1.9043, 1.8791, 1.8611, 1.482, 1.7838, 1.6996, 1.5829, 1.7744, 1.4587, 0.8976, 1.1273, 0.1892, 0.9481, 1.1082, 0.86, 0.8409, 1.039, -0.3485, 0.8462, -0.1637, 0.1989, 0.063]}, \"token.table\": {\"Topic\": [3, 5, 6, 2, 4, 1, 2, 1, 2, 3, 4, 5, 6, 1, 3, 1, 2, 3, 4, 5, 6, 3, 5, 6, 3, 2, 3, 6, 2, 2, 5, 4, 3, 5, 1, 6, 2, 6, 5, 1, 2, 3, 4, 5, 3, 2, 3, 5, 6, 6, 2, 1, 2, 6, 2, 4, 1, 3, 5, 4, 1, 3, 3, 5, 6, 1, 2, 4, 5, 6, 1, 3, 3, 5, 2, 1, 2, 5, 6, 6, 1, 2, 6, 1, 2, 1, 2, 3, 6, 6, 1, 4, 5, 1, 2, 3, 4, 5, 6, 2, 1, 2, 3, 4, 5, 6, 2, 3, 1, 2, 4, 5, 2, 5, 1, 2, 3, 4, 6, 1, 2, 3, 4, 5, 4, 5, 6, 1, 5, 2, 3, 4, 4, 1, 1, 5, 6, 6, 2, 2, 5, 1, 1, 4, 1, 2, 1, 3, 2, 6, 1, 2, 3, 5, 6, 1, 1, 2, 6, 6, 1, 2, 3, 4, 5, 6, 3, 3, 4, 5, 6, 3, 1, 3, 5, 6, 4, 3, 6, 6, 4, 1, 3, 4, 5, 6, 1, 2, 3, 5, 1, 2, 3, 4, 5, 2, 6, 2, 6, 6, 4, 3, 5, 3, 1, 5, 5, 2, 1, 2, 3, 4, 5, 6, 1, 1, 2, 3, 4, 6, 1, 2, 3, 5, 6, 1, 2, 3, 4, 5, 6, 1, 6, 4, 1, 3, 5, 6, 1, 2, 3, 4, 6, 1, 2, 3, 4, 5, 6, 3, 1, 2, 3, 1, 1, 2, 4, 5, 2, 1, 3, 5, 4, 1, 3, 5, 3, 5, 2, 3, 4, 1, 2, 4, 3, 3, 1, 1, 4, 1, 2, 3, 4, 5, 3, 1, 2, 3, 4, 5, 6, 1, 1, 2, 5, 6, 2, 3, 5, 1, 6, 1, 2, 3, 4, 5, 6, 6, 6, 1, 2, 4, 5, 6, 3, 1, 2, 3, 4, 5, 4, 1, 1, 2, 3, 4, 5, 6, 3, 1, 2, 3, 4, 5, 2, 3, 1, 1, 2, 3, 4, 5, 6, 2, 6, 2, 5, 1, 3, 4, 5, 1, 2, 3, 4, 5, 6, 6, 5, 2, 1, 2, 3, 4, 5, 1, 1, 2, 3, 4, 5, 6, 4, 5, 1, 2, 3, 4, 5, 3, 5, 1, 2, 3, 4, 5, 6, 4, 1, 2, 3, 5, 6, 1, 5, 1, 2, 3, 4, 5, 6, 2, 3, 4, 5, 6, 5, 6, 3, 1, 2, 4, 5, 6, 2, 6, 6, 1, 2, 3, 4, 5, 6, 1, 2, 3, 4, 5, 6, 2, 5, 6, 1, 1, 4, 1, 1, 2, 3, 4, 5, 6, 2, 1, 2, 3, 4, 5, 1, 4, 1, 2, 1, 2, 3, 4, 5, 6, 1, 2, 5, 4, 3, 5, 1, 2, 3, 5, 6, 1, 2, 3, 4, 5, 6, 2, 3, 4, 5, 3, 2, 6, 3, 3, 5, 1, 2, 4, 4, 4, 1, 4, 6, 1, 2, 5, 2, 2, 3, 1, 1, 6, 1, 2, 3, 4, 5, 2, 3, 4, 1, 2, 5, 2, 2, 1, 6, 1, 2, 3, 5, 6, 3, 1, 2, 3, 4, 1, 4, 5, 1, 2, 3, 4, 5, 6, 3, 6, 2, 4, 5, 6, 1, 2, 3, 4, 5, 2, 3, 3, 5, 2, 1, 2, 4, 5, 6, 6, 1, 2, 3, 4, 5, 2, 3, 2, 3, 4, 6, 1, 5, 4, 4, 1, 2, 3, 4, 5, 3, 5, 4, 4, 1, 2, 3, 4, 5, 6, 1, 2, 3, 5, 6, 1, 3, 5, 6, 1, 3, 5, 6, 2, 1, 2, 6, 3, 1, 2, 3, 4, 5, 6, 1, 2, 3, 4, 5, 6, 2, 4, 6, 6, 2, 1, 4, 1, 1, 3, 4, 5, 6, 1, 1, 2, 3, 4, 5, 6, 1, 2, 3, 4, 5, 6, 3, 4, 1, 6, 4, 3, 4, 6, 2, 1, 2, 3, 4, 5, 6, 3, 3, 4, 4, 4, 3, 1, 3, 4, 1, 2, 6, 1, 2, 6, 1, 2, 3, 4, 6, 1, 3, 1, 3, 4, 5, 6, 5, 1, 2, 3, 4, 5, 4, 6, 1, 2, 1, 2, 3, 4, 5, 6, 1, 2, 3, 4, 1, 2, 3, 4, 5, 6, 1, 2, 4, 5, 6, 1, 4], \"Freq\": [0.17482064552199492, 0.6992825820879797, 0.17482064552199492, 0.8299019039423897, 0.15089125526225267, 0.7813338992731711, 0.15626677985463422, 0.08879311897629305, 0.5327587138577583, 0.08879311897629305, 0.08879311897629305, 0.08879311897629305, 0.1775862379525861, 0.7524472526127395, 0.8702332779179631, 0.3089043457884918, 0.24025893561327138, 0.17161352543805097, 0.1372908203504408, 0.0686454101752204, 0.0686454101752204, 0.27295953162416325, 0.5459190632483265, 0.7440734786070744, 0.8702782776995636, 0.9072271338022018, 0.6063163739870177, 0.3031581869935088, 0.6416478114153392, 0.19693112214751543, 0.7877244885900617, 0.8670311659077508, 0.8054261896320841, 0.20135654740802103, 0.18222627675974132, 0.7289051070389653, 0.2379962344824965, 0.7139887034474894, 0.800646844455411, 0.26666573572027735, 0.17777715714685158, 0.08888857857342579, 0.35555431429370316, 0.17777715714685158, 0.6503438339378529, 0.08429952269805366, 0.5900966588863756, 0.08429952269805366, 0.25289856809416095, 0.4867045067596894, 0.9553061508688377, 0.5969771533965517, 0.17056490097044333, 0.08528245048522166, 0.9106945391628802, 0.8301068616046666, 0.4665595466558099, 0.5332109104637828, 0.9258728528598643, 0.8301019344933098, 0.8707298768362587, 0.6503197768172706, 0.40613155502234777, 0.23207517429848443, 0.29009396787310554, 0.39619660500869985, 0.2829975750062142, 0.11319903000248567, 0.11319903000248567, 0.056599515001242835, 0.9345824933973871, 0.8702495738148628, 0.197567587345793, 0.790270349383172, 0.7676288343037955, 0.7457634188268093, 0.10653763126097276, 0.10653763126097276, 0.10653763126097276, 0.4866903174705824, 0.2013220333198378, 0.2013220333198378, 0.6039660999595134, 0.31565102407325324, 0.6313020481465065, 0.2556942683497657, 0.5113885366995314, 0.17046284556651048, 0.08523142278325524, 0.7319622675466174, 0.30841035973729375, 0.6168207194745875, 0.6970230039424432, 0.2708198869461958, 0.22568323912182983, 0.2708198869461958, 0.09027329564873193, 0.1354099434730979, 0.09027329564873193, 0.8903038717546667, 0.22064629443516762, 0.29419505924689016, 0.07354876481172254, 0.14709752962344508, 0.29419505924689016, 0.7377393072102063, 0.9106809303158597, 0.6503219870175185, 0.24261669229539837, 0.24261669229539837, 0.48523338459079673, 0.12130834614769918, 0.6417411895218113, 0.696975676141293, 0.3459126369726215, 0.17295631848631074, 0.17295631848631074, 0.05765210616210358, 0.23060842464841433, 0.05488007982346076, 0.16464023947038228, 0.4939207184111469, 0.05488007982346076, 0.21952031929384305, 0.19995476401275683, 0.7998190560510273, 0.4866954830790367, 0.1384424731904882, 0.830654839142929, 0.21533788227661627, 0.6460136468298489, 0.9233866943849174, 0.923428750368853, 0.9446852296101971, 0.15475337567379477, 0.6190135026951791, 0.15475337567379477, 0.9374034572840046, 0.7676610076076849, 0.7677459638026997, 0.9257961892719859, 0.7522521321964198, 0.9445358216722017, 0.9180198795510733, 0.04363997270746247, 0.9164394268567119, 0.2144341239661482, 0.6433023718984445, 0.14697616570335154, 0.7348808285167576, 0.7524895103066456, 0.7166944960979484, 0.14333889921958967, 0.14333889921958967, 0.745932220190483, 0.94461519258436, 0.20593832061874276, 0.10296916030937138, 0.7207841221655996, 0.9290030951444672, 0.38163338901397886, 0.10903811114685111, 0.21807622229370222, 0.10903811114685111, 0.16355716672027668, 0.054519055573425554, 0.8638870356706253, 0.6596393872332104, 0.10993989787220172, 0.21987979574440344, 0.48666336610526073, 0.8702506423424244, 0.45368346412222355, 0.06481192344603194, 0.1944357703380958, 0.3240596172301597, 0.8300896699988413, 0.24132589996856244, 0.7239776999056873, 0.971298549843818, 0.8300582154254366, 0.6011979929038103, 0.17177085511537435, 0.08588542755768717, 0.08588542755768717, 0.08588542755768717, 0.7524773253192123, 0.23915404065463294, 0.15943602710308863, 0.5580260948608102, 0.2879487862914936, 0.0719871965728734, 0.43192317943724046, 0.1439743931457468, 0.0719871965728734, 0.2856511778539188, 0.5713023557078376, 0.41892424147351426, 0.41892424147351426, 0.7320104776234295, 0.8301171480600192, 0.8702579896267045, 0.6970032986460029, 0.6503654645017773, 0.7524916047163416, 0.9389995719530283, 0.8383976069346205, 0.6417124824442194, 0.40162589312508307, 0.05737512758929758, 0.17212538276789274, 0.11475025517859516, 0.17212538276789274, 0.05737512758929758, 0.752485717610605, 0.3797036076121054, 0.2373147547575659, 0.2373147547575659, 0.09492590190302636, 0.04746295095151318, 0.397434477809707, 0.17032906191844585, 0.11355270794563056, 0.22710541589126113, 0.05677635397281528, 0.3119978612449409, 0.12479914449797636, 0.3119978612449409, 0.12479914449797636, 0.06239957224898818, 0.06239957224898818, 0.9296704905128781, 0.48670507323967044, 0.6905168390219598, 0.9446342913773045, 0.7786962473032901, 0.8006923324079855, 0.4866640021183116, 0.08135972764917668, 0.48815836589506006, 0.24407918294753003, 0.16271945529835335, 0.08135972764917668, 0.0712590537170658, 0.2137771611511974, 0.1425181074341316, 0.1425181074341316, 0.4275543223023948, 0.0712590537170658, 0.7786954246578003, 0.1426831377873715, 0.1426831377873715, 0.7134156889368575, 0.8706352023029704, 0.1622342013311733, 0.5678197046591066, 0.08111710066558665, 0.1622342013311733, 0.9105903197979959, 0.18055851991632618, 0.18055851991632618, 0.5416755597489785, 0.9180843242106267, 0.6980948875487594, 0.27923795501950377, 0.9259730465142607, 0.6503712350629616, 0.9368022880975697, 0.16290487806980725, 0.651619512279229, 0.16290487806980725, 0.12804475346571673, 0.7682685207943003, 0.12804475346571673, 0.9313835598090706, 0.6503356224870188, 0.9039051825650625, 0.7253281832544586, 0.18133204581361465, 0.4459086648327448, 0.3185061891662463, 0.06370123783324926, 0.06370123783324926, 0.1274024756664985, 0.9217891674367464, 0.4759450347169549, 0.09518900694339097, 0.15864834490565163, 0.09518900694339097, 0.15864834490565163, 0.031729668981130325, 0.9444775427285913, 0.1758964029065896, 0.5276892087197688, 0.0879482014532948, 0.1758964029065896, 0.2890190587717339, 0.5780381175434678, 0.14450952938586695, 0.1228506648400361, 0.7371039890402166, 0.20191938480809618, 0.20191938480809618, 0.06730646160269874, 0.4711452312188911, 0.13461292320539747, 0.06730646160269874, 0.4866750960907815, 0.9357372874710157, 0.6050212908976733, 0.08643161298538189, 0.08643161298538189, 0.08643161298538189, 0.08643161298538189, 0.8702818038097819, 0.6426957319768729, 0.08033696649710911, 0.04016848324855456, 0.04016848324855456, 0.24101089949132734, 0.6904832914142607, 0.7524730047660443, 0.37381293175237235, 0.14017984940713962, 0.16354315764166288, 0.16354315764166288, 0.07008992470356981, 0.09345323293809309, 0.8639562146930959, 0.09731561340335686, 0.29194684021007056, 0.29194684021007056, 0.19463122680671371, 0.09731561340335686, 0.2153480909884283, 0.6460442729652849, 0.9347692834582472, 0.23824142653654362, 0.11912071326827181, 0.39706904422757267, 0.07941380884551454, 0.15882761769102907, 0.03970690442275727, 0.10675018716932395, 0.8540014973545916, 0.15394703632670284, 0.7697351816335143, 0.20215160692300216, 0.13476773794866811, 0.13476773794866811, 0.4716870828203384, 0.1506663860957869, 0.05022212869859564, 0.20088851479438255, 0.3013327721915738, 0.1506663860957869, 0.10044425739719127, 0.7378717660232462, 0.8384080210687922, 0.9624684231012909, 0.13931597310894614, 0.2089739596634192, 0.2786319462178923, 0.3482899327723653, 0.06965798655447307, 0.9444885560759212, 0.047850409786197486, 0.09570081957239497, 0.47850409786197484, 0.047850409786197486, 0.19140163914478994, 0.09570081957239497, 0.9253009584829938, 0.6972335717062152, 0.1046971648677814, 0.0523485824338907, 0.1046971648677814, 0.6281829892066884, 0.1046971648677814, 0.6576584100304936, 0.21921947001016456, 0.17293655236835145, 0.057645517456117144, 0.3458731047367029, 0.11529103491223429, 0.23058206982446858, 0.057645517456117144, 0.8300500165644366, 0.19912993272911098, 0.597389798187333, 0.09956496636455549, 0.09956496636455549, 0.09956496636455549, 0.9446614962992524, 0.9258710073554616, 0.0917852266925034, 0.1835704533850068, 0.0917852266925034, 0.3671409067700136, 0.0917852266925034, 0.1835704533850068, 0.6853844119572279, 0.13707688239144558, 0.13707688239144558, 0.06853844119572279, 0.06853844119572279, 0.9628572397382669, 0.4867161673076544, 0.8702447994201078, 0.1386796026771924, 0.20801940401578858, 0.1386796026771924, 0.2773592053543848, 0.20801940401578858, 0.6417411811022974, 0.4866642401018122, 0.48668591368140146, 0.1765005725704757, 0.2941676209507928, 0.05883352419015856, 0.05883352419015856, 0.1765005725704757, 0.23533409676063424, 0.3615741854282853, 0.2169445112569712, 0.2169445112569712, 0.03615741854282853, 0.07231483708565706, 0.1084722556284856, 0.15523191464455974, 0.620927658578239, 0.15523191464455974, 0.8915173710460719, 0.40096514728078714, 0.5346201963743829, 0.7524799532060319, 0.16653467910620232, 0.22204623880826974, 0.055511559702067434, 0.055511559702067434, 0.055511559702067434, 0.44409247761653947, 0.7677074303956205, 0.16651373579113063, 0.16651373579113063, 0.16651373579113063, 0.41628433947782656, 0.08325686789556531, 0.7252965380403407, 0.18132413451008517, 0.7525603437212575, 0.9624208786008169, 0.18702992080063194, 0.18702992080063194, 0.46757480200157986, 0.09351496040031597, 0.09351496040031597, 0.09351496040031597, 0.12353261554871683, 0.24706523109743367, 0.6176630777435842, 0.69051212739372, 0.06237682570847688, 0.9356523856271531, 0.15434286396610575, 0.15434286396610575, 0.46302859189831724, 0.15434286396610575, 0.07717143198305287, 0.13121092732501008, 0.3936327819750302, 0.13121092732501008, 0.13121092732501008, 0.13121092732501008, 0.06560546366250504, 0.8512045291752521, 0.18498694266911367, 0.09249347133455683, 0.7399477706764547, 0.778607311731273, 0.6704538787031937, 0.2514202045136976, 0.6503543239427565, 0.17322305077066724, 0.692892203082669, 0.08069419018068273, 0.08069419018068273, 0.8069419018068272, 0.6904880419172482, 0.6904918977972504, 0.807912419962423, 0.23083211998926373, 0.4866900095380301, 0.7157408373163663, 0.17893520932909157, 0.8939434143100994, 0.641690006184759, 0.7644030007774308, 0.1274005001295718, 0.7524210368345539, 0.9444958608428187, 0.9374106631372389, 0.18015763000164248, 0.09007881500082124, 0.09007881500082124, 0.6305517050057486, 0.09007881500082124, 0.8903155192488882, 0.6502915001504553, 0.8300764407827484, 0.10602701317741005, 0.10602701317741005, 0.7421890922418704, 0.7677129063247861, 0.851250539355864, 0.9346846924065754, 0.486672180792111, 0.3840685962151619, 0.26942125406138223, 0.08598550661533476, 0.1433091776922246, 0.12037970926146865, 0.9247184546864448, 0.10594699797830674, 0.7416289858481472, 0.10594699797830674, 0.05297349898915337, 0.6440375953830161, 0.16100939884575402, 0.16100939884575402, 0.3798780289407998, 0.10853657969737138, 0.21707315939474275, 0.05426828984868569, 0.21707315939474275, 0.05426828984868569, 0.7567881639682389, 0.18919704099205972, 0.1270810521243254, 0.1270810521243254, 0.635405260621627, 0.1270810521243254, 0.24729744087346733, 0.24729744087346733, 0.08243248029115577, 0.3297299211646231, 0.08243248029115577, 0.767678696366447, 0.6503359994782217, 0.3423693817604337, 0.6847387635208674, 0.9110894496991605, 0.24662576968436517, 0.06165644242109129, 0.5549079817898216, 0.06165644242109129, 0.06165644242109129, 0.7377828287960593, 0.06847705530763555, 0.06847705530763555, 0.06847705530763555, 0.8217246636916267, 0.9258710238932608, 0.797985007629268, 0.1595970015258536, 0.3217207105160072, 0.21448047367733816, 0.10724023683866908, 0.4289609473546763, 0.7523761065991832, 0.8007367313959312, 0.8300506121764494, 0.9234724534143771, 0.11109684010167505, 0.3332905203050251, 0.11109684010167505, 0.4443873604067002, 0.11109684010167505, 0.17322622307771052, 0.6929048923108421, 0.8301277412174569, 0.830064870573485, 0.5843935530170358, 0.11687871060340717, 0.11687871060340717, 0.058439355301703584, 0.11687871060340717, 0.058439355301703584, 0.1209993848604713, 0.7864960015930634, 0.04033312828682377, 0.04033312828682377, 0.020166564143411884, 0.08702272840863717, 0.08702272840863717, 0.7832045556777345, 0.08702272840863717, 0.24846333690299083, 0.12423166845149541, 0.49692667380598166, 0.12423166845149541, 0.6417390106739326, 0.7524863364857304, 0.860115305734732, 0.1075144132168415, 0.6503528006093382, 0.2692078944093229, 0.08973596480310764, 0.17947192960621527, 0.08973596480310764, 0.35894385921243055, 0.08973596480310764, 0.1563787196626943, 0.23456807949404143, 0.23456807949404143, 0.07818935983134714, 0.1563787196626943, 0.11728403974702072, 0.15525102073850608, 0.07762551036925304, 0.7762551036925305, 0.8912784830213738, 0.7676776791145566, 0.6167609375182601, 0.3364150568281419, 0.7523186372875549, 0.6748415475160698, 0.13496830950321398, 0.06748415475160699, 0.13496830950321398, 0.06748415475160699, 0.7524585669486349, 0.3712895368279333, 0.11138686104838, 0.22277372209676, 0.14851581473117334, 0.11138686104838, 0.037128953682793335, 0.49777740763307243, 0.2133331746998882, 0.07111105823329605, 0.07111105823329605, 0.07111105823329605, 0.07111105823329605, 0.10621499511133503, 0.8497199608906802, 0.7335374212515068, 0.1833843553128767, 0.9234623703736335, 0.6006851752528065, 0.15017129381320163, 0.15017129381320163, 0.9106453434853713, 0.5365819166435548, 0.15330911904101568, 0.07665455952050784, 0.15330911904101568, 0.07665455952050784, 0.07665455952050784, 0.8639611450430676, 0.7787176904549913, 0.8300695648386187, 0.6904914664544339, 0.9234178449890021, 0.9246943910218366, 0.2581856567290069, 0.6454641418225172, 0.12909282836450345, 0.2554798255082685, 0.6812795346887159, 0.08515994183608949, 0.17987469302894044, 0.08993734651447022, 0.6295614256012916, 0.34514260119349516, 0.12942847544756067, 0.12942847544756067, 0.08628565029837379, 0.25885695089512134, 0.2561769488793391, 0.7685308466380173, 0.09779288397852505, 0.09779288397852505, 0.7823430718282004, 0.7084803128667275, 0.23616010428890916, 0.6968790521733201, 0.029756228215885375, 0.05951245643177075, 0.6843932489653636, 0.1190249128635415, 0.08926868464765612, 0.24392404636126486, 0.7317721390837946, 0.7813510664420369, 0.15627021328840737, 0.14943888654427093, 0.32022618545200915, 0.17078729890773822, 0.08539364945386911, 0.042696824726934555, 0.2561809483616073, 0.5232858229704156, 0.07475511756720223, 0.22426535270160666, 0.14951023513440445, 0.17176423550086567, 0.33031583750166477, 0.1321263350006659, 0.1321263350006659, 0.15855160200079907, 0.06606316750033295, 0.4164576574367799, 0.23797580424958853, 0.05949395106239713, 0.23797580424958853, 0.05949395106239713, 0.7252675051047942, 0.18131687627619855], \"Term\": [\"accord\", \"accord\", \"accord\", \"account\", \"account\", \"accuse\", \"accuse\", \"add\", \"add\", \"add\", \"add\", \"add\", \"add\", \"adult\", \"agricultural\", \"also\", \"also\", \"also\", \"also\", \"also\", \"also\", \"analyst\", \"analyst\", \"architect\", \"argument\", \"armory\", \"asset\", \"asset\", \"attorney\", \"average\", \"average\", \"band\", \"banking\", \"banking\", \"bar\", \"bar\", \"baratloo\", \"baratloo\", \"barrel\", \"base\", \"base\", \"base\", \"base\", \"base\", \"behavior\", \"bill\", \"bill\", \"bill\", \"bill\", \"billionaire\", \"bishop\", \"black\", \"black\", \"black\", \"board\", \"bonus\", \"book\", \"book\", \"boyfriend\", \"broadcast\", \"brock\", \"broker\", \"business\", \"business\", \"business\", \"call\", \"call\", \"call\", \"call\", \"call\", \"camera\", \"canal\", \"capital\", \"capital\", \"check\", \"child\", \"child\", \"child\", \"child\", \"chinese\", \"choose\", \"choose\", \"choose\", \"church\", \"church\", \"city\", \"city\", \"city\", \"city\", \"clerestory\", \"coach\", \"coach\", \"collusion\", \"come\", \"come\", \"come\", \"come\", \"come\", \"come\", \"community\", \"company\", \"company\", \"company\", \"company\", \"company\", \"complicate\", \"consumer\", \"contempt\", \"contract\", \"contract\", \"contract\", \"contract\", \"controversial\", \"convenience\", \"could\", \"could\", \"could\", \"could\", \"could\", \"country\", \"country\", \"country\", \"country\", \"country\", \"crisis\", \"crisis\", \"crisp\", \"crude\", \"crude\", \"culture\", \"culture\", \"cycling\", \"daily\", \"definitely\", \"demand\", \"demand\", \"demand\", \"democratic\", \"department\", \"deputy\", \"describe\", \"detector\", \"digital\", \"disabled\", \"district\", \"district\", \"dominate\", \"dominate\", \"door\", \"door\", \"earley\", \"effort\", \"effort\", \"effort\", \"eliminate\", \"employee\", \"estate\", \"estate\", \"estate\", \"estate_tax\", \"even\", \"even\", \"even\", \"even\", \"even\", \"even\", \"everglade\", \"executive\", \"executive\", \"executive\", \"exemption\", \"explode\", \"family\", \"family\", \"family\", \"family\", \"fan\", \"farm\", \"farm\", \"farmer\", \"feature\", \"feel\", \"feel\", \"feel\", \"feel\", \"feel\", \"file\", \"financial\", \"financial\", \"financial\", \"first\", \"first\", \"first\", \"first\", \"first\", \"floor\", \"floor\", \"foot\", \"foot\", \"frame\", \"french\", \"fresh\", \"fuel\", \"fukuoka\", \"furniture\", \"gas\", \"gasoline\", \"gay\", \"get\", \"get\", \"get\", \"get\", \"get\", \"get\", \"girl\", \"give\", \"give\", \"give\", \"give\", \"give\", \"go\", \"go\", \"go\", \"go\", \"go\", \"good\", \"good\", \"good\", \"good\", \"good\", \"good\", \"gooden\", \"granite\", \"guitar\", \"guy\", \"hatred\", \"heating_oil\", \"heir\", \"help\", \"help\", \"help\", \"help\", \"help\", \"high\", \"high\", \"high\", \"high\", \"high\", \"high\", \"historical\", \"history\", \"history\", \"history\", \"impeachment\", \"include\", \"include\", \"include\", \"include\", \"indian\", \"industry\", \"industry\", \"industry\", \"inexpensive\", \"influence\", \"influence\", \"interment\", \"invasion\", \"inventory\", \"investment\", \"investment\", \"investment\", \"issue\", \"issue\", \"issue\", \"japanese\", \"jewish\", \"judge\", \"justice\", \"justice\", \"know\", \"know\", \"know\", \"know\", \"know\", \"korean\", \"last\", \"last\", \"last\", \"last\", \"last\", \"last\", \"laugh\", \"law\", \"law\", \"law\", \"law\", \"learn\", \"learn\", \"learn\", \"light\", \"light\", \"live\", \"live\", \"live\", \"live\", \"live\", \"live\", \"lobbyist\", \"loft\", \"look\", \"look\", \"look\", \"look\", \"look\", \"loss\", \"low\", \"low\", \"low\", \"low\", \"low\", \"magazine\", \"mail\", \"make\", \"make\", \"make\", \"make\", \"make\", \"make\", \"male\", \"man\", \"man\", \"man\", \"man\", \"man\", \"management\", \"management\", \"manager\", \"many\", \"many\", \"many\", \"many\", \"many\", \"many\", \"marble\", \"marble\", \"margin\", \"margin\", \"market\", \"market\", \"market\", \"market\", \"may\", \"may\", \"may\", \"may\", \"may\", \"may\", \"merchant\", \"midwest\", \"mistrust\", \"money\", \"money\", \"money\", \"money\", \"money\", \"mother\", \"much\", \"much\", \"much\", \"much\", \"much\", \"much\", \"music\", \"nail\", \"name\", \"name\", \"name\", \"name\", \"name\", \"natural\", \"natural\", \"new\", \"new\", \"new\", \"new\", \"new\", \"new\", \"newspaper\", \"next\", \"next\", \"next\", \"next\", \"next\", \"obviously\", \"occasionally\", \"offer\", \"offer\", \"offer\", \"offer\", \"offer\", \"offer\", \"official\", \"official\", \"official\", \"official\", \"official\", \"oil\", \"onyx\", \"otherwise\", \"owner\", \"owner\", \"owner\", \"owner\", \"owner\", \"paragraph\", \"partly\", \"pattern\", \"pay\", \"pay\", \"pay\", \"pay\", \"pay\", \"pay\", \"people\", \"people\", \"people\", \"people\", \"people\", \"people\", \"period\", \"period\", \"period\", \"phone\", \"pitcher\", \"pitcher\", \"plaintiff\", \"plan\", \"plan\", \"plan\", \"plan\", \"plan\", \"plan\", \"plaster\", \"play\", \"play\", \"play\", \"play\", \"play\", \"player\", \"player\", \"playoff\", \"playwright\", \"point\", \"point\", \"point\", \"point\", \"point\", \"point\", \"police\", \"police\", \"police\", \"portion\", \"price\", \"price\", \"private\", \"private\", \"private\", \"private\", \"private\", \"problem\", \"problem\", \"problem\", \"problem\", \"problem\", \"problem\", \"profile\", \"profit\", \"profit\", \"profit\", \"project\", \"proposal\", \"proposal\", \"prostitute\", \"pump\", \"pump\", \"race\", \"race\", \"race\", \"racing\", \"radio\", \"ranger\", \"ranger\", \"rectangle\", \"refer\", \"refer\", \"refiner\", \"regent\", \"relationship\", \"relationship\", \"relieve\", \"reliever\", \"repeal\", \"report\", \"report\", \"report\", \"report\", \"report\", \"resolution\", \"restoration\", \"rider\", \"rise\", \"rise\", \"rise\", \"rite\", \"roosevelt\", \"sather\", \"saving\", \"say\", \"say\", \"say\", \"say\", \"say\", \"scapegoat\", \"school\", \"school\", \"school\", \"school\", \"season\", \"season\", \"season\", \"see\", \"see\", \"see\", \"see\", \"see\", \"see\", \"sense\", \"sense\", \"service\", \"service\", \"service\", \"service\", \"set\", \"set\", \"set\", \"set\", \"set\", \"severe\", \"sexualize\", \"sharply\", \"sharply\", \"shelter\", \"sign\", \"sign\", \"sign\", \"sign\", \"sign\", \"sincavage\", \"site\", \"site\", \"site\", \"site\", \"slash\", \"slave\", \"slave\", \"small\", \"small\", \"small\", \"small\", \"smoke\", \"soar\", \"sometimes\", \"song\", \"spend\", \"spend\", \"spend\", \"spend\", \"spend\", \"spread\", \"spread\", \"stadium\", \"stage\", \"start\", \"start\", \"start\", \"start\", \"start\", \"start\", \"state\", \"state\", \"state\", \"state\", \"state\", \"station\", \"station\", \"station\", \"station\", \"strong\", \"strong\", \"strong\", \"strong\", \"structure\", \"suit\", \"support\", \"support\", \"swiss\", \"system\", \"system\", \"system\", \"system\", \"system\", \"system\", \"take\", \"take\", \"take\", \"take\", \"take\", \"take\", \"tax\", \"tax\", \"tax\", \"taxis\", \"teacher\", \"team\", \"team\", \"technology\", \"think\", \"think\", \"think\", \"think\", \"think\", \"throw\", \"time\", \"time\", \"time\", \"time\", \"time\", \"time\", \"today\", \"today\", \"today\", \"today\", \"today\", \"today\", \"tour\", \"tour\", \"town\", \"town\", \"trade\", \"travel\", \"travel\", \"travel\", \"trooper\", \"try\", \"try\", \"try\", \"try\", \"try\", \"try\", \"ub\", \"ubs\", \"unfortunately\", \"update\", \"video\", \"violence\", \"visit\", \"visit\", \"visit\", \"vote\", \"vote\", \"vote\", \"wall\", \"wall\", \"wall\", \"want\", \"want\", \"want\", \"want\", \"want\", \"water\", \"water\", \"web\", \"web\", \"web\", \"wholesale\", \"wholesale\", \"winter\", \"woman\", \"woman\", \"woman\", \"woman\", \"woman\", \"wood\", \"wood\", \"worker\", \"worker\", \"would\", \"would\", \"would\", \"would\", \"would\", \"would\", \"write\", \"write\", \"write\", \"write\", \"year\", \"year\", \"year\", \"year\", \"year\", \"year\", \"yesterday\", \"yesterday\", \"yesterday\", \"yesterday\", \"yesterday\", \"young\", \"young\"]}, \"R\": 30, \"lambda.step\": 0.01, \"plot.opts\": {\"xlab\": \"PC1\", \"ylab\": \"PC2\"}, \"topic.order\": [4, 5, 2, 6, 3, 1]};\n",
              "\n",
              "function LDAvis_load_lib(url, callback){\n",
              "  var s = document.createElement('script');\n",
              "  s.src = url;\n",
              "  s.async = true;\n",
              "  s.onreadystatechange = s.onload = callback;\n",
              "  s.onerror = function(){console.warn(\"failed to load library \" + url);};\n",
              "  document.getElementsByTagName(\"head\")[0].appendChild(s);\n",
              "}\n",
              "\n",
              "if(typeof(LDAvis) !== \"undefined\"){\n",
              "   // already loaded: just create the visualization\n",
              "   !function(LDAvis){\n",
              "       new LDAvis(\"#\" + \"ldavis_el571406274536092089520128046\", ldavis_el571406274536092089520128046_data);\n",
              "   }(LDAvis);\n",
              "}else if(typeof define === \"function\" && define.amd){\n",
              "   // require.js is available: use it to load d3/LDAvis\n",
              "   require.config({paths: {d3: \"https://cdnjs.cloudflare.com/ajax/libs/d3/3.5.5/d3.min\"}});\n",
              "   require([\"d3\"], function(d3){\n",
              "      window.d3 = d3;\n",
              "      LDAvis_load_lib(\"https://cdn.rawgit.com/bmabey/pyLDAvis/files/ldavis.v1.0.0.js\", function(){\n",
              "        new LDAvis(\"#\" + \"ldavis_el571406274536092089520128046\", ldavis_el571406274536092089520128046_data);\n",
              "      });\n",
              "    });\n",
              "}else{\n",
              "    // require.js not available: dynamically load d3 & LDAvis\n",
              "    LDAvis_load_lib(\"https://cdnjs.cloudflare.com/ajax/libs/d3/3.5.5/d3.min.js\", function(){\n",
              "         LDAvis_load_lib(\"https://cdn.rawgit.com/bmabey/pyLDAvis/files/ldavis.v1.0.0.js\", function(){\n",
              "                 new LDAvis(\"#\" + \"ldavis_el571406274536092089520128046\", ldavis_el571406274536092089520128046_data);\n",
              "            })\n",
              "         });\n",
              "}\n",
              "</script>"
            ],
            "text/plain": [
              "PreparedData(topic_coordinates=              x         y  topics  cluster       Freq\n",
              "topic                                                \n",
              "3     -0.007245 -0.042422       1        1  23.305318\n",
              "4      0.086009 -0.093733       2        1  20.968152\n",
              "1     -0.009189  0.087596       3        1  18.735645\n",
              "5     -0.160324 -0.043167       4        1  13.805529\n",
              "2      0.028538  0.120797       5        1  13.176609\n",
              "0      0.062211 -0.029071       6        1  10.008748, topic_info=          Term        Freq       Total Category  logprob  loglift\n",
              "1365     price   32.000000   32.000000  Default  30.0000  30.0000\n",
              "64         say  174.000000  174.000000  Default  29.0000  29.0000\n",
              "298      state   49.000000   49.000000  Default  28.0000  28.0000\n",
              "2892       gas   19.000000   19.000000  Default  27.0000  27.0000\n",
              "1050  district   22.000000   22.000000  Default  26.0000  26.0000\n",
              "...        ...         ...         ...      ...      ...      ...\n",
              "77        year    5.346371   75.685139   Topic6  -5.1680  -0.3485\n",
              "229      owner    3.364224   14.421732   Topic6  -5.6312   0.8462\n",
              "208       make    3.637005   42.802158   Topic6  -5.5533  -0.1637\n",
              "53      people    3.377126   27.656842   Topic6  -5.6274   0.1989\n",
              "306       take    2.726490   25.578928   Topic6  -5.8414   0.0630\n",
              "\n",
              "[377 rows x 6 columns], token_table=      Topic      Freq       Term\n",
              "term                            \n",
              "80        3  0.174821     accord\n",
              "80        5  0.699283     accord\n",
              "80        6  0.174821     accord\n",
              "891       2  0.829902    account\n",
              "891       4  0.150891    account\n",
              "...     ...       ...        ...\n",
              "337       4  0.059494  yesterday\n",
              "337       5  0.237976  yesterday\n",
              "337       6  0.059494  yesterday\n",
              "1891      1  0.725268      young\n",
              "1891      4  0.181317      young\n",
              "\n",
              "[719 rows x 3 columns], R=30, lambda_step=0.01, plot_opts={'xlab': 'PC1', 'ylab': 'PC2'}, topic_order=[4, 5, 2, 6, 3, 1])"
            ]
          },
          "metadata": {
            "tags": []
          },
          "execution_count": 22
        }
      ]
    }
  ]
}